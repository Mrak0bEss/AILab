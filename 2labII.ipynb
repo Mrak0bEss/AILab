{
  "nbformat": 4,
  "nbformat_minor": 0,
  "metadata": {
    "colab": {
      "provenance": [],
      "gpuType": "T4"
    },
    "kernelspec": {
      "name": "python3",
      "display_name": "Python 3"
    },
    "language_info": {
      "name": "python"
    },
    "accelerator": "GPU"
  },
  "cells": [
    {
      "cell_type": "code",
      "execution_count": null,
      "metadata": {
        "id": "FfHPHZmC4OuC"
      },
      "outputs": [],
      "source": [
        "import pandas as pd\n",
        "from sklearn.impute import SimpleImputer\n",
        "from sklearn.model_selection import train_test_split\n",
        "\n",
        "# Загрузка данных для регрессии\n",
        "regression_data = pd.read_csv(\"/content/drive/MyDrive/Colab Notebooks/AiDatasets/Delhi_v2.csv\")\n",
        "\n",
        "# Удаление ненужных столбцов\n",
        "X_reg = regression_data.drop(columns=[\"price\", \"Address\", \"desc\"])  # Удаляем целевую переменную и текстовые столбцы\n",
        "y_reg = regression_data[\"price\"]  # Целевая переменная\n",
        "\n",
        "# Преобразуем категориальные данные в числовые\n",
        "X_reg = pd.get_dummies(X_reg, drop_first=True)\n",
        "\n",
        "# Обработка пропущенных значений\n",
        "imputer = SimpleImputer(strategy=\"mean\")  # Замена NaN на среднее значение\n",
        "X_reg = imputer.fit_transform(X_reg)\n",
        "\n",
        "# Разделение данных на обучающую и тестовую выборки\n",
        "X_train_reg, X_test_reg, y_train_reg, y_test_reg = train_test_split(X_reg, y_reg, test_size=0.2, random_state=42)"
      ]
    },
    {
      "cell_type": "code",
      "source": [
        "from sklearn.feature_extraction.text import CountVectorizer\n",
        "\n",
        "# Загрузка данных для классификации\n",
        "classification_data = pd.read_csv(\"/content/drive/MyDrive/Colab Notebooks/AiDatasets/jobDs.csv\")\n",
        "\n",
        "# Предварительная обработка данных\n",
        "classification_data = classification_data.dropna()  # Удаление строк с пропущенными значениями\n",
        "X_text = classification_data['job_title']  # Признаки (текстовые данные)\n",
        "y_class = classification_data['category']  # Целевая переменная\n",
        "\n",
        "# Преобразование текстовых данных в числовые (Bag of Words)\n",
        "vectorizer = CountVectorizer()\n",
        "X_class = vectorizer.fit_transform(X_text)\n",
        "\n",
        "# Разделение данных на обучающую и тестовую выборки\n",
        "X_train_class, X_test_class, y_train_class, y_test_class = train_test_split(X_class, y_class, test_size=0.2, random_state=42)\n"
      ],
      "metadata": {
        "id": "7bKe--WS4S8J"
      },
      "execution_count": null,
      "outputs": []
    },
    {
      "cell_type": "code",
      "source": [
        "from sklearn.linear_model import LogisticRegression\n",
        "from sklearn.metrics import classification_report, accuracy_score\n",
        "\n",
        "# Обучение линейной модели классификации\n",
        "log_reg = LogisticRegression(max_iter=5, random_state=42)\n",
        "log_reg.fit(X_train_class, y_train_class)\n",
        "\n",
        "# Предсказания\n",
        "y_pred_class = log_reg.predict(X_test_class)\n",
        "\n",
        "# Оценка качества\n",
        "print(\"Accuracy:\", accuracy_score(y_test_class, y_pred_class))\n",
        "print(classification_report(y_test_class, y_pred_class))\n"
      ],
      "metadata": {
        "colab": {
          "base_uri": "https://localhost:8080/"
        },
        "id": "mtJK_9dr4WBB",
        "outputId": "5faf6ad5-c270-439b-99df-56e8c3bffaad"
      },
      "execution_count": null,
      "outputs": [
        {
          "output_type": "stream",
          "name": "stdout",
          "text": [
            "Accuracy: 0.6644029428409735\n",
            "                                        precision    recall  f1-score   support\n",
            "\n",
            "                            Accounting       0.00      0.00      0.00         9\n",
            "       Administration & Office Support       0.66      0.89      0.76       436\n",
            "             Advertising, Arts & Media       0.00      0.00      0.00        12\n",
            "          Banking & Financial Services       0.36      0.71      0.48       208\n",
            "              CEO & General Management       0.00      0.00      0.00        10\n",
            "        Call Centre & Customer Service       0.00      0.00      0.00        35\n",
            "                          Construction       0.73      0.51      0.60        85\n",
            "                 Consulting & Strategy       0.00      0.00      0.00        24\n",
            "                 Design & Architecture       0.00      0.00      0.00        17\n",
            "                           Engineering       0.00      0.00      0.00         3\n",
            "                  Healthcare & Medical       0.00      0.00      0.00         3\n",
            "         Human Resources & Recruitment       0.95      0.75      0.84       366\n",
            "Information & Communication Technology       0.88      0.83      0.86       149\n",
            "            Insurance & Superannuation       0.00      0.00      0.00         1\n",
            "                                 Legal       0.00      0.00      0.00        25\n",
            "  Manufacturing, Transport & Logistics       0.90      0.79      0.84       165\n",
            "            Marketing & Communications       0.82      0.17      0.29        81\n",
            "                Real Estate & Property       0.00      0.00      0.00         2\n",
            "            Retail & Consumer Products       0.00      0.00      0.00        14\n",
            "                                 Sales       0.45      0.47      0.46       116\n",
            "                  Science & Technology       0.00      0.00      0.00         5\n",
            "                     Trades & Services       0.00      0.00      0.00         1\n",
            "\n",
            "                              accuracy                           0.66      1767\n",
            "                             macro avg       0.26      0.23      0.23      1767\n",
            "                          weighted avg       0.66      0.66      0.64      1767\n",
            "\n"
          ]
        },
        {
          "output_type": "stream",
          "name": "stderr",
          "text": [
            "/usr/local/lib/python3.10/dist-packages/sklearn/linear_model/_logistic.py:469: ConvergenceWarning: lbfgs failed to converge (status=1):\n",
            "STOP: TOTAL NO. of ITERATIONS REACHED LIMIT.\n",
            "\n",
            "Increase the number of iterations (max_iter) or scale the data as shown in:\n",
            "    https://scikit-learn.org/stable/modules/preprocessing.html\n",
            "Please also refer to the documentation for alternative solver options:\n",
            "    https://scikit-learn.org/stable/modules/linear_model.html#logistic-regression\n",
            "  n_iter_i = _check_optimize_result(\n",
            "/usr/local/lib/python3.10/dist-packages/sklearn/metrics/_classification.py:1531: UndefinedMetricWarning: Precision is ill-defined and being set to 0.0 in labels with no predicted samples. Use `zero_division` parameter to control this behavior.\n",
            "  _warn_prf(average, modifier, f\"{metric.capitalize()} is\", len(result))\n",
            "/usr/local/lib/python3.10/dist-packages/sklearn/metrics/_classification.py:1531: UndefinedMetricWarning: Precision is ill-defined and being set to 0.0 in labels with no predicted samples. Use `zero_division` parameter to control this behavior.\n",
            "  _warn_prf(average, modifier, f\"{metric.capitalize()} is\", len(result))\n",
            "/usr/local/lib/python3.10/dist-packages/sklearn/metrics/_classification.py:1531: UndefinedMetricWarning: Precision is ill-defined and being set to 0.0 in labels with no predicted samples. Use `zero_division` parameter to control this behavior.\n",
            "  _warn_prf(average, modifier, f\"{metric.capitalize()} is\", len(result))\n"
          ]
        }
      ]
    },
    {
      "cell_type": "code",
      "source": [
        "from sklearn.linear_model import LinearRegression\n",
        "from sklearn.metrics import mean_absolute_error, mean_squared_error, r2_score\n",
        "\n",
        "# Обучение линейной модели регрессии\n",
        "lin_reg = LinearRegression()\n",
        "lin_reg.fit(X_train_reg, y_train_reg)\n",
        "\n",
        "# Предсказания\n",
        "y_pred_reg = lin_reg.predict(X_test_reg)\n",
        "\n",
        "# Оценка качества\n",
        "print(\"MAE:\", mean_absolute_error(y_test_reg, y_pred_reg))\n",
        "print(\"MSE:\", mean_squared_error(y_test_reg, y_pred_reg))\n",
        "print(\"R^2:\", r2_score(y_test_reg, y_pred_reg))\n"
      ],
      "metadata": {
        "colab": {
          "base_uri": "https://localhost:8080/"
        },
        "id": "dduiDV-Q4Ytk",
        "outputId": "b137939f-5835-4761-ffc4-19f1a9407a45"
      },
      "execution_count": null,
      "outputs": [
        {
          "output_type": "stream",
          "name": "stdout",
          "text": [
            "MAE: 730607341542.4445\n",
            "MSE: 7.44655400559215e+26\n",
            "R^2: -12560881308641.113\n"
          ]
        }
      ]
    },
    {
      "cell_type": "code",
      "source": [
        "from sklearn.model_selection import RandomizedSearchCV\n",
        "from sklearn.model_selection import RandomizedSearchCV\n",
        "from scipy.stats import loguniform\n",
        "from sklearn.model_selection import StratifiedKFold\n",
        "from sklearn.linear_model import LogisticRegression\n",
        "from sklearn.preprocessing import StandardScaler\n",
        "from sklearn.pipeline import Pipeline\n",
        "from sklearn.metrics import accuracy_score, classification_report\n",
        "\n",
        "# Параметры\n",
        "pipeline_class = Pipeline([\n",
        "    ('scaler', StandardScaler(with_mean=False)),  # Отключаем центрирование\n",
        "    ('log_reg', LogisticRegression(max_iter=5, random_state=42, n_jobs=-1))  # Параллельная обработка\n",
        "])\n",
        "\n",
        "# Подбор гиперпараметров\n",
        "param_distributions = {\n",
        "    'log_reg__C': loguniform(0.01, 100),  # Логарифмическое распределение\n",
        "    'log_reg__solver': ['liblinear', 'saga'],  # Решатели\n",
        "    'log_reg__penalty': ['l2', 'elasticnet'],  # Виды регуляризации\n",
        "    'log_reg__max_iter': [1, 2, 3]  # Большее число итераций\n",
        "}\n",
        "\n",
        "# Разбиение\n",
        "skf = StratifiedKFold(n_splits=3)\n",
        "\n",
        "# Поиск\n",
        "random_search_class = RandomizedSearchCV(\n",
        "    pipeline_class,\n",
        "    param_distributions=param_distributions,\n",
        "    n_iter=5,  # Увеличьте количество итераций\n",
        "    cv=skf,\n",
        "    scoring='accuracy',  # Для точности\n",
        "    random_state=42,\n",
        "    n_jobs=-1  # Использование всех ядер\n",
        ")\n",
        "\n",
        "# Обучение и предсказания\n",
        "random_search_class.fit(X_train_class, y_train_class)\n",
        "y_pred_class_improved = random_search_class.best_estimator_.predict(X_test_class)\n",
        "\n",
        "# Оценка\n",
        "print(\"Improved Accuracy:\", accuracy_score(y_test_class, y_pred_class_improved))\n",
        "print(classification_report(y_test_class, y_pred_class_improved))"
      ],
      "metadata": {
        "colab": {
          "base_uri": "https://localhost:8080/"
        },
        "id": "TiEbHte74Z4V",
        "outputId": "01a7fda8-64de-4aa3-d9db-d7a63629a03d"
      },
      "execution_count": null,
      "outputs": [
        {
          "output_type": "stream",
          "name": "stderr",
          "text": [
            "/usr/local/lib/python3.10/dist-packages/sklearn/model_selection/_split.py:776: UserWarning: The least populated class in y has only 1 members, which is less than n_splits=3.\n",
            "  warnings.warn(\n",
            "/usr/local/lib/python3.10/dist-packages/sklearn/model_selection/_validation.py:540: FitFailedWarning: \n",
            "6 fits failed out of a total of 15.\n",
            "The score on these train-test partitions for these parameters will be set to nan.\n",
            "If these failures are not expected, you can try to debug them by setting error_score='raise'.\n",
            "\n",
            "Below are more details about the failures:\n",
            "--------------------------------------------------------------------------------\n",
            "3 fits failed with the following error:\n",
            "Traceback (most recent call last):\n",
            "  File \"/usr/local/lib/python3.10/dist-packages/sklearn/model_selection/_validation.py\", line 888, in _fit_and_score\n",
            "    estimator.fit(X_train, y_train, **fit_params)\n",
            "  File \"/usr/local/lib/python3.10/dist-packages/sklearn/base.py\", line 1473, in wrapper\n",
            "    return fit_method(estimator, *args, **kwargs)\n",
            "  File \"/usr/local/lib/python3.10/dist-packages/sklearn/pipeline.py\", line 473, in fit\n",
            "    self._final_estimator.fit(Xt, y, **last_step_params[\"fit\"])\n",
            "  File \"/usr/local/lib/python3.10/dist-packages/sklearn/base.py\", line 1473, in wrapper\n",
            "    return fit_method(estimator, *args, **kwargs)\n",
            "  File \"/usr/local/lib/python3.10/dist-packages/sklearn/linear_model/_logistic.py\", line 1194, in fit\n",
            "    solver = _check_solver(self.solver, self.penalty, self.dual)\n",
            "  File \"/usr/local/lib/python3.10/dist-packages/sklearn/linear_model/_logistic.py\", line 75, in _check_solver\n",
            "    raise ValueError(\n",
            "ValueError: Only 'saga' solver supports elasticnet penalty, got solver=liblinear.\n",
            "\n",
            "--------------------------------------------------------------------------------\n",
            "3 fits failed with the following error:\n",
            "Traceback (most recent call last):\n",
            "  File \"/usr/local/lib/python3.10/dist-packages/sklearn/model_selection/_validation.py\", line 888, in _fit_and_score\n",
            "    estimator.fit(X_train, y_train, **fit_params)\n",
            "  File \"/usr/local/lib/python3.10/dist-packages/sklearn/base.py\", line 1473, in wrapper\n",
            "    return fit_method(estimator, *args, **kwargs)\n",
            "  File \"/usr/local/lib/python3.10/dist-packages/sklearn/pipeline.py\", line 473, in fit\n",
            "    self._final_estimator.fit(Xt, y, **last_step_params[\"fit\"])\n",
            "  File \"/usr/local/lib/python3.10/dist-packages/sklearn/base.py\", line 1473, in wrapper\n",
            "    return fit_method(estimator, *args, **kwargs)\n",
            "  File \"/usr/local/lib/python3.10/dist-packages/sklearn/linear_model/_logistic.py\", line 1204, in fit\n",
            "    raise ValueError(\"l1_ratio must be specified when penalty is elasticnet.\")\n",
            "ValueError: l1_ratio must be specified when penalty is elasticnet.\n",
            "\n",
            "  warnings.warn(some_fits_failed_message, FitFailedWarning)\n",
            "/usr/local/lib/python3.10/dist-packages/sklearn/model_selection/_search.py:1103: UserWarning: One or more of the test scores are non-finite: [0.8054318  0.74416352 0.77033981        nan        nan]\n",
            "  warnings.warn(\n",
            "/usr/local/lib/python3.10/dist-packages/sklearn/linear_model/_logistic.py:1271: UserWarning: 'n_jobs' > 1 does not have any effect when 'solver' is set to 'liblinear'. Got 'n_jobs' = 2.\n",
            "  warnings.warn(\n",
            "/usr/local/lib/python3.10/dist-packages/sklearn/svm/_base.py:1235: ConvergenceWarning: Liblinear failed to converge, increase the number of iterations.\n",
            "  warnings.warn(\n",
            "/usr/local/lib/python3.10/dist-packages/sklearn/metrics/_classification.py:1531: UndefinedMetricWarning: Precision is ill-defined and being set to 0.0 in labels with no predicted samples. Use `zero_division` parameter to control this behavior.\n",
            "  _warn_prf(average, modifier, f\"{metric.capitalize()} is\", len(result))\n",
            "/usr/local/lib/python3.10/dist-packages/sklearn/metrics/_classification.py:1531: UndefinedMetricWarning: Recall is ill-defined and being set to 0.0 in labels with no true samples. Use `zero_division` parameter to control this behavior.\n",
            "  _warn_prf(average, modifier, f\"{metric.capitalize()} is\", len(result))\n",
            "/usr/local/lib/python3.10/dist-packages/sklearn/metrics/_classification.py:1531: UndefinedMetricWarning: Precision is ill-defined and being set to 0.0 in labels with no predicted samples. Use `zero_division` parameter to control this behavior.\n",
            "  _warn_prf(average, modifier, f\"{metric.capitalize()} is\", len(result))\n",
            "/usr/local/lib/python3.10/dist-packages/sklearn/metrics/_classification.py:1531: UndefinedMetricWarning: Recall is ill-defined and being set to 0.0 in labels with no true samples. Use `zero_division` parameter to control this behavior.\n",
            "  _warn_prf(average, modifier, f\"{metric.capitalize()} is\", len(result))\n"
          ]
        },
        {
          "output_type": "stream",
          "name": "stdout",
          "text": [
            "Improved Accuracy: 0.8160724391624222\n",
            "                                        precision    recall  f1-score   support\n",
            "\n",
            "                            Accounting       0.00      0.00      0.00         9\n",
            "       Administration & Office Support       0.83      0.86      0.85       436\n",
            "             Advertising, Arts & Media       0.50      0.08      0.14        12\n",
            "          Banking & Financial Services       0.81      0.78      0.80       208\n",
            "              CEO & General Management       0.80      0.40      0.53        10\n",
            "        Call Centre & Customer Service       0.50      0.54      0.52        35\n",
            "                          Construction       0.81      0.80      0.80        85\n",
            "                 Consulting & Strategy       0.47      0.29      0.36        24\n",
            "                 Design & Architecture       0.78      0.82      0.80        17\n",
            "                           Engineering       0.50      0.33      0.40         3\n",
            "                  Healthcare & Medical       0.00      0.00      0.00         3\n",
            "                 Hospitality & Tourism       0.00      0.00      0.00         0\n",
            "         Human Resources & Recruitment       0.89      0.94      0.91       366\n",
            "Information & Communication Technology       0.82      0.97      0.89       149\n",
            "            Insurance & Superannuation       0.00      0.00      0.00         1\n",
            "                                 Legal       0.73      0.76      0.75        25\n",
            "  Manufacturing, Transport & Logistics       0.82      0.93      0.87       165\n",
            "            Marketing & Communications       0.71      0.70      0.71        81\n",
            "                Real Estate & Property       0.00      0.00      0.00         2\n",
            "            Retail & Consumer Products       0.33      0.07      0.12        14\n",
            "                                 Sales       0.77      0.60      0.68       116\n",
            "                  Science & Technology       0.00      0.00      0.00         5\n",
            "                     Trades & Services       0.00      0.00      0.00         1\n",
            "\n",
            "                              accuracy                           0.82      1767\n",
            "                             macro avg       0.48      0.43      0.44      1767\n",
            "                          weighted avg       0.80      0.82      0.80      1767\n",
            "\n"
          ]
        },
        {
          "output_type": "stream",
          "name": "stderr",
          "text": [
            "/usr/local/lib/python3.10/dist-packages/sklearn/metrics/_classification.py:1531: UndefinedMetricWarning: Precision is ill-defined and being set to 0.0 in labels with no predicted samples. Use `zero_division` parameter to control this behavior.\n",
            "  _warn_prf(average, modifier, f\"{metric.capitalize()} is\", len(result))\n",
            "/usr/local/lib/python3.10/dist-packages/sklearn/metrics/_classification.py:1531: UndefinedMetricWarning: Recall is ill-defined and being set to 0.0 in labels with no true samples. Use `zero_division` parameter to control this behavior.\n",
            "  _warn_prf(average, modifier, f\"{metric.capitalize()} is\", len(result))\n"
          ]
        }
      ]
    },
    {
      "cell_type": "code",
      "source": [
        "import pandas as pd\n",
        "from sklearn.impute import SimpleImputer\n",
        "from sklearn.model_selection import train_test_split, GridSearchCV\n",
        "from sklearn.preprocessing import StandardScaler\n",
        "from sklearn.linear_model import LinearRegression\n",
        "from sklearn.ensemble import RandomForestRegressor\n",
        "from sklearn.pipeline import Pipeline\n",
        "from sklearn.metrics import mean_absolute_error, mean_squared_error, r2_score\n",
        "\n",
        "# Загрузка данных для регрессии\n",
        "regression_data = pd.read_csv(\"/content/drive/MyDrive/Colab Notebooks/AiDatasets/Delhi_v2.csv\")\n",
        "\n",
        "# Удаление ненужных столбцов\n",
        "X_reg = regression_data.drop(columns=[\"price\", \"Address\", \"desc\"])  # Удаляем целевую переменную и текстовые столбцы\n",
        "y_reg = regression_data[\"price\"]  # Целевая переменная\n",
        "\n",
        "# Преобразуем категориальные данные в числовые\n",
        "X_reg = pd.get_dummies(X_reg, drop_first=True)\n",
        "\n",
        "# Обработка пропущенных значений\n",
        "imputer = SimpleImputer(strategy=\"mean\")  # Замена NaN на среднее значение\n",
        "X_reg = imputer.fit_transform(X_reg)\n",
        "\n",
        "# Разделение данных на обучающую и тестовую выборки\n",
        "X_train_reg, X_test_reg, y_train_reg, y_test_reg = train_test_split(X_reg, y_reg, test_size=0.2, random_state=42)\n",
        "\n",
        "# Создание пайплайна для масштабирования данных и применения модели\n",
        "pipeline = Pipeline([\n",
        "    ('scaler', StandardScaler()),  # Масштабирование данных\n",
        "    ('regressor', LinearRegression())  # Линейная регрессия\n",
        "])\n",
        "\n",
        "# Настройка гиперпараметров для линейной регрессии (пока без изменений)\n",
        "param_grid = {\n",
        "    'regressor': [LinearRegression(), RandomForestRegressor(n_estimators=100, random_state=42)]  # Пробуем линейную регрессию и случайный лес\n",
        "}\n",
        "\n",
        "# Поиск по сетке с кросс-валидацией для выбора лучшего алгоритма\n",
        "grid_search = GridSearchCV(pipeline, param_grid, cv=3, scoring='neg_mean_squared_error', n_jobs=-1)\n",
        "\n",
        "# Обучение модели\n",
        "grid_search.fit(X_train_reg, y_train_reg)\n",
        "\n",
        "# Предсказания\n",
        "y_pred_reg = grid_search.best_estimator_.predict(X_test_reg)\n",
        "\n",
        "# Оценка качества модели\n",
        "print(\"Best Model:\", grid_search.best_estimator_)\n",
        "print(\"MAE:\", mean_absolute_error(y_test_reg, y_pred_reg))\n",
        "print(\"MSE:\", mean_squared_error(y_test_reg, y_pred_reg))\n",
        "print(\"R^2:\", r2_score(y_test_reg, y_pred_reg))\n",
        "\n"
      ],
      "metadata": {
        "id": "ZVYnXv234boq",
        "colab": {
          "base_uri": "https://localhost:8080/"
        },
        "outputId": "dab95461-7953-422a-cdf8-4373d21071c4"
      },
      "execution_count": null,
      "outputs": [
        {
          "output_type": "stream",
          "name": "stderr",
          "text": [
            "/usr/local/lib/python3.10/dist-packages/sklearn/model_selection/_validation.py:540: FitFailedWarning: \n",
            "1 fits failed out of a total of 6.\n",
            "The score on these train-test partitions for these parameters will be set to nan.\n",
            "If these failures are not expected, you can try to debug them by setting error_score='raise'.\n",
            "\n",
            "Below are more details about the failures:\n",
            "--------------------------------------------------------------------------------\n",
            "1 fits failed with the following error:\n",
            "Traceback (most recent call last):\n",
            "  File \"/usr/local/lib/python3.10/dist-packages/sklearn/model_selection/_validation.py\", line 888, in _fit_and_score\n",
            "    estimator.fit(X_train, y_train, **fit_params)\n",
            "  File \"/usr/local/lib/python3.10/dist-packages/sklearn/base.py\", line 1473, in wrapper\n",
            "    return fit_method(estimator, *args, **kwargs)\n",
            "  File \"/usr/local/lib/python3.10/dist-packages/sklearn/pipeline.py\", line 473, in fit\n",
            "    self._final_estimator.fit(Xt, y, **last_step_params[\"fit\"])\n",
            "  File \"/usr/local/lib/python3.10/dist-packages/sklearn/base.py\", line 1473, in wrapper\n",
            "    return fit_method(estimator, *args, **kwargs)\n",
            "  File \"/usr/local/lib/python3.10/dist-packages/sklearn/linear_model/_base.py\", line 687, in fit\n",
            "    self.coef_, _, self.rank_, self.singular_ = linalg.lstsq(X, y)\n",
            "  File \"/usr/local/lib/python3.10/dist-packages/scipy/linalg/_basic.py\", line 1278, in lstsq\n",
            "    raise LinAlgError(\"SVD did not converge in Linear Least Squares\")\n",
            "numpy.linalg.LinAlgError: SVD did not converge in Linear Least Squares\n",
            "\n",
            "  warnings.warn(some_fits_failed_message, FitFailedWarning)\n",
            "/usr/local/lib/python3.10/dist-packages/sklearn/model_selection/_search.py:1103: UserWarning: One or more of the test scores are non-finite: [            nan -7.21522889e+11]\n",
            "  warnings.warn(\n"
          ]
        },
        {
          "output_type": "stream",
          "name": "stdout",
          "text": [
            "Best Model: Pipeline(steps=[('scaler', StandardScaler()),\n",
            "                ('regressor', RandomForestRegressor(random_state=42))])\n",
            "MAE: 130127.39018087856\n",
            "MSE: 363042385555.55554\n",
            "R^2: 0.9938761844585494\n"
          ]
        }
      ]
    },
    {
      "cell_type": "code",
      "source": [
        "class CustomLinearClassifier:\n",
        "    def __init__(self, lr=0.01, n_iter=1000):\n",
        "        self.lr = lr\n",
        "        self.n_iter = n_iter\n",
        "\n",
        "    def fit(self, X, y):\n",
        "        self.theta = np.zeros(X.shape[1])\n",
        "        for _ in range(self.n_iter):\n",
        "            gradients = -np.dot(X.T, (y - self.predict_proba(X))) / len(y)\n",
        "            self.theta -= self.lr * gradients\n",
        "\n",
        "    def predict_proba(self, X):\n",
        "        return 1 / (1 + np.exp(-np.dot(X, self.theta)))\n",
        "\n",
        "    def predict(self, X):\n",
        "        return (self.predict_proba(X) > 0.5).astype(int)\n"
      ],
      "metadata": {
        "id": "am0Wx5iH4eSB"
      },
      "execution_count": null,
      "outputs": []
    },
    {
      "cell_type": "code",
      "source": [
        "class CustomLinearRegressor:\n",
        "    def __init__(self, lr=0.01, n_iter=1000):\n",
        "        self.lr = lr\n",
        "        self.n_iter = n_iter\n",
        "\n",
        "    def fit(self, X, y):\n",
        "        self.theta = np.zeros(X.shape[1])\n",
        "        for _ in range(self.n_iter):\n",
        "            gradients = -2 * np.dot(X.T, (y - self.predict(X))) / len(y)\n",
        "            self.theta -= self.lr * gradients\n",
        "\n",
        "    def predict(self, X):\n",
        "        return np.dot(X, self.theta)\n"
      ],
      "metadata": {
        "id": "-H5HDjG64fyy"
      },
      "execution_count": null,
      "outputs": []
    },
    {
      "cell_type": "code",
      "source": [
        "from sklearn.preprocessing import LabelEncoder\n",
        "\n",
        "# Преобразование строковых меток в числовые\n",
        "label_encoder = LabelEncoder()\n",
        "y_train_class = label_encoder.fit_transform(y_train_class)  # Преобразуем метки в числовые значения\n",
        "y_test_class = label_encoder.transform(y_test_class)\n",
        "\n",
        "# Применение кастомного классификатора\n",
        "custom_classifier = CustomLinearClassifier(lr=0.01, n_iter=5)\n",
        "custom_classifier.fit(X_train_class_array, y_train_class)  # Обучение модели\n",
        "\n",
        "# Предсказания\n",
        "y_pred_class = custom_classifier.predict(X_test_class_array)\n",
        "\n",
        "# Оценка качества\n",
        "accuracy = accuracy_score(y_test_class, y_pred_class)\n",
        "print(\"Accuracy (Custom Classifier):\", accuracy)"
      ],
      "metadata": {
        "colab": {
          "base_uri": "https://localhost:8080/"
        },
        "id": "Bp0hB_X2i6wm",
        "outputId": "0e544608-0f92-41e6-a97f-106ac5c0eeaf"
      },
      "execution_count": null,
      "outputs": [
        {
          "output_type": "stream",
          "name": "stdout",
          "text": [
            "Accuracy (Custom Classifier): 0.24674589700056593\n"
          ]
        }
      ]
    },
    {
      "cell_type": "code",
      "source": [
        "custom_regressor = CustomLinearRegressor(lr=0.01, n_iter=5)\n",
        "custom_regressor.fit(X_train_reg, y_train_reg)  # X_reg в виде массива\n",
        "\n",
        "# Предсказания\n",
        "y_pred_reg = custom_regressor.predict(X_test_reg)\n",
        "\n",
        "# Оценка качества\n",
        "print(\"MAE (Custom Regressor):\", mean_absolute_error(y_test_reg, y_pred_reg))\n",
        "print(\"MSE (Custom Regressor):\", mean_squared_error(y_test_reg, y_pred_reg))\n",
        "print(\"R^2 (Custom Regressor):\", r2_score(y_test_reg, y_pred_reg))"
      ],
      "metadata": {
        "colab": {
          "base_uri": "https://localhost:8080/"
        },
        "id": "hlXCb6XRi_no",
        "outputId": "f0cdd838-1b4b-45f4-f33a-0af5776d7333"
      },
      "execution_count": null,
      "outputs": [
        {
          "output_type": "stream",
          "name": "stdout",
          "text": [
            "MAE (Custom Regressor): 1.203808642225425e+37\n",
            "MSE (Custom Regressor): 1.644749951908677e+74\n",
            "R^2 (Custom Regressor): -2.7743717312470994e+60\n"
          ]
        }
      ]
    }
  ]
}