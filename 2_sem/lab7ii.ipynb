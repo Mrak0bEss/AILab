{
 "cells": [
  {
   "cell_type": "code",
   "execution_count": 36,
   "metadata": {
    "executionInfo": {
     "elapsed": 2658,
     "status": "ok",
     "timestamp": 1745240362399,
     "user": {
      "displayName": "MMrakobes",
      "userId": "15956397942857323771"
     },
     "user_tz": -180
    },
    "id": "AJuKIq1KUjb0"
   },
   "outputs": [],
   "source": [
    "!pip install -q segmentation-models-pytorch albumentations==1.3.0\n"
   ]
  },
  {
   "cell_type": "markdown",
   "metadata": {},
   "source": [
    "# Подключение к датасету"
   ]
  },
  {
   "cell_type": "code",
   "execution_count": 37,
   "metadata": {
    "executionInfo": {
     "elapsed": 10,
     "status": "ok",
     "timestamp": 1745240362400,
     "user": {
      "displayName": "MMrakobes",
      "userId": "15956397942857323771"
     },
     "user_tz": -180
    },
    "id": "2Z7IMzDVUWIr"
   },
   "outputs": [],
   "source": [
    "import torch\n",
    "import segmentation_models_pytorch as smp\n",
    "from torch.utils.data import DataLoader\n",
    "from torch import nn\n",
    "import os\n",
    "import glob\n",
    "from google.colab import drive\n",
    "from PIL import Image\n",
    "from torchvision import transforms\n",
    "from torch.utils.data import Dataset\n",
    "# 📌 Устройство\n",
    "device = torch.device(\"cuda\" if torch.cuda.is_available() else \"cpu\")\n",
    "\n",
    "# 📁 Путь к тренировочным изображениям\n",
    "train_dir = '/content/smokedata/Training/Training'\n",
    "\n",
    "# ✅ Размер\n",
    "image_size = (256, 256)\n",
    "\n",
    "# 🧩 Трансформации для изображений\n",
    "transform = transforms.Compose([\n",
    "    transforms.Resize(image_size),\n",
    "    transforms.ToTensor()\n",
    "])"
   ]
  },
  {
   "cell_type": "markdown",
   "metadata": {},
   "source": [
    "# Обучение модели сверточной"
   ]
  },
  {
   "cell_type": "code",
   "execution_count": 38,
   "metadata": {
    "executionInfo": {
     "elapsed": 1,
     "status": "ok",
     "timestamp": 1745240362404,
     "user": {
      "displayName": "MMrakobes",
      "userId": "15956397942857323771"
     },
     "user_tz": -180
    },
    "id": "5Rnuz6txXYg8"
   },
   "outputs": [],
   "source": [
    "class SmokeDataset(Dataset):\n",
    "    def __init__(self, image_dir, transform=None):\n",
    "        self.image_paths = sorted(glob.glob(os.path.join(image_dir, '*.jpg')))  # Это инициализация атрибута image_paths\n",
    "        self.transform = transform\n",
    "\n",
    "    def __len__(self):\n",
    "        return len(self.image_paths)\n",
    "\n",
    "    def __getitem__(self, idx):\n",
    "        image_path = self.image_paths[idx]\n",
    "        image = Image.open(image_path).convert(\"RGB\")\n",
    "\n",
    "        if self.transform:\n",
    "            image = self.transform(image)\n",
    "\n",
    "        # ⚠️ Генерируем ПСЕВДОмаску\n",
    "        label = random.randint(0, 1)\n",
    "        mask = torch.ones((1, image_size[0], image_size[1])) * label  # Маска\n",
    "        mask = mask.unsqueeze(0)  # Добавляем batch размер: [1, 1, H, W]\n",
    "\n",
    "        return image, mask"
   ]
  },
  {
   "cell_type": "code",
   "execution_count": 39,
   "metadata": {
    "colab": {
     "base_uri": "https://localhost:8080/"
    },
    "executionInfo": {
     "elapsed": 2977,
     "status": "ok",
     "timestamp": 1745240365382,
     "user": {
      "displayName": "MMrakobes",
      "userId": "15956397942857323771"
     },
     "user_tz": -180
    },
    "id": "HcuSLa8EVMiA",
    "outputId": "7ff4b9ee-a6a7-4f5e-d3e6-494a3339a51d"
   },
   "outputs": [
    {
     "name": "stdout",
     "output_type": "stream",
     "text": [
      "Drive already mounted at /content/drive; to attempt to forcibly remount, call drive.mount(\"/content/drive\", force_remount=True).\n",
      "/content/smokedata содержит 0 файлов\n",
      "/content/smokedata/Testing содержит 0 файлов\n",
      "/content/smokedata/Testing/Testing содержит 224 файлов\n",
      "/content/smokedata/Validation содержит 0 файлов\n",
      "/content/smokedata/Validation/Validation содержит 180 файлов\n",
      "/content/smokedata/Training содержит 0 файлов\n",
      "/content/smokedata/Training/Training содержит 716 файлов\n"
     ]
    }
   ],
   "source": [
    "import os\n",
    "import zipfile\n",
    "import random\n",
    "import shutil\n",
    "drive.mount('/content/drive')\n",
    "\n",
    "# 📌 Пути к архиву и извлечённой папке\n",
    "zip_path = '/content/drive/MyDrive/Colab Notebooks/AiDatasets/smokedata.zip'\n",
    "extract_dir = '/content/smokedata'\n",
    "\n",
    "# 📌 Распаковываем архив\n",
    "with zipfile.ZipFile(zip_path, 'r') as zip_ref:\n",
    "    zip_ref.extractall(extract_dir)\n",
    "\n",
    "for root, dirs, files in os.walk(extract_dir):\n",
    "  print(root, \"содержит\", len(files), \"файлов\")"
   ]
  },
  {
   "cell_type": "code",
   "execution_count": 40,
   "metadata": {
    "colab": {
     "base_uri": "https://localhost:8080/"
    },
    "executionInfo": {
     "elapsed": 397,
     "status": "ok",
     "timestamp": 1745240365780,
     "user": {
      "displayName": "MMrakobes",
      "userId": "15956397942857323771"
     },
     "user_tz": -180
    },
    "id": "UhxXCL9tXbA2",
    "outputId": "8fc36ef4-910e-4966-9a92-ebc1875e86f1"
   },
   "outputs": [
    {
     "data": {
      "text/plain": [
       "Unet(\n",
       "  (encoder): ResNetEncoder(\n",
       "    (conv1): Conv2d(3, 64, kernel_size=(7, 7), stride=(2, 2), padding=(3, 3), bias=False)\n",
       "    (bn1): BatchNorm2d(64, eps=1e-05, momentum=0.1, affine=True, track_running_stats=True)\n",
       "    (relu): ReLU(inplace=True)\n",
       "    (maxpool): MaxPool2d(kernel_size=3, stride=2, padding=1, dilation=1, ceil_mode=False)\n",
       "    (layer1): Sequential(\n",
       "      (0): BasicBlock(\n",
       "        (conv1): Conv2d(64, 64, kernel_size=(3, 3), stride=(1, 1), padding=(1, 1), bias=False)\n",
       "        (bn1): BatchNorm2d(64, eps=1e-05, momentum=0.1, affine=True, track_running_stats=True)\n",
       "        (relu): ReLU(inplace=True)\n",
       "        (conv2): Conv2d(64, 64, kernel_size=(3, 3), stride=(1, 1), padding=(1, 1), bias=False)\n",
       "        (bn2): BatchNorm2d(64, eps=1e-05, momentum=0.1, affine=True, track_running_stats=True)\n",
       "      )\n",
       "      (1): BasicBlock(\n",
       "        (conv1): Conv2d(64, 64, kernel_size=(3, 3), stride=(1, 1), padding=(1, 1), bias=False)\n",
       "        (bn1): BatchNorm2d(64, eps=1e-05, momentum=0.1, affine=True, track_running_stats=True)\n",
       "        (relu): ReLU(inplace=True)\n",
       "        (conv2): Conv2d(64, 64, kernel_size=(3, 3), stride=(1, 1), padding=(1, 1), bias=False)\n",
       "        (bn2): BatchNorm2d(64, eps=1e-05, momentum=0.1, affine=True, track_running_stats=True)\n",
       "      )\n",
       "    )\n",
       "    (layer2): Sequential(\n",
       "      (0): BasicBlock(\n",
       "        (conv1): Conv2d(64, 128, kernel_size=(3, 3), stride=(2, 2), padding=(1, 1), bias=False)\n",
       "        (bn1): BatchNorm2d(128, eps=1e-05, momentum=0.1, affine=True, track_running_stats=True)\n",
       "        (relu): ReLU(inplace=True)\n",
       "        (conv2): Conv2d(128, 128, kernel_size=(3, 3), stride=(1, 1), padding=(1, 1), bias=False)\n",
       "        (bn2): BatchNorm2d(128, eps=1e-05, momentum=0.1, affine=True, track_running_stats=True)\n",
       "        (downsample): Sequential(\n",
       "          (0): Conv2d(64, 128, kernel_size=(1, 1), stride=(2, 2), bias=False)\n",
       "          (1): BatchNorm2d(128, eps=1e-05, momentum=0.1, affine=True, track_running_stats=True)\n",
       "        )\n",
       "      )\n",
       "      (1): BasicBlock(\n",
       "        (conv1): Conv2d(128, 128, kernel_size=(3, 3), stride=(1, 1), padding=(1, 1), bias=False)\n",
       "        (bn1): BatchNorm2d(128, eps=1e-05, momentum=0.1, affine=True, track_running_stats=True)\n",
       "        (relu): ReLU(inplace=True)\n",
       "        (conv2): Conv2d(128, 128, kernel_size=(3, 3), stride=(1, 1), padding=(1, 1), bias=False)\n",
       "        (bn2): BatchNorm2d(128, eps=1e-05, momentum=0.1, affine=True, track_running_stats=True)\n",
       "      )\n",
       "    )\n",
       "    (layer3): Sequential(\n",
       "      (0): BasicBlock(\n",
       "        (conv1): Conv2d(128, 256, kernel_size=(3, 3), stride=(2, 2), padding=(1, 1), bias=False)\n",
       "        (bn1): BatchNorm2d(256, eps=1e-05, momentum=0.1, affine=True, track_running_stats=True)\n",
       "        (relu): ReLU(inplace=True)\n",
       "        (conv2): Conv2d(256, 256, kernel_size=(3, 3), stride=(1, 1), padding=(1, 1), bias=False)\n",
       "        (bn2): BatchNorm2d(256, eps=1e-05, momentum=0.1, affine=True, track_running_stats=True)\n",
       "        (downsample): Sequential(\n",
       "          (0): Conv2d(128, 256, kernel_size=(1, 1), stride=(2, 2), bias=False)\n",
       "          (1): BatchNorm2d(256, eps=1e-05, momentum=0.1, affine=True, track_running_stats=True)\n",
       "        )\n",
       "      )\n",
       "      (1): BasicBlock(\n",
       "        (conv1): Conv2d(256, 256, kernel_size=(3, 3), stride=(1, 1), padding=(1, 1), bias=False)\n",
       "        (bn1): BatchNorm2d(256, eps=1e-05, momentum=0.1, affine=True, track_running_stats=True)\n",
       "        (relu): ReLU(inplace=True)\n",
       "        (conv2): Conv2d(256, 256, kernel_size=(3, 3), stride=(1, 1), padding=(1, 1), bias=False)\n",
       "        (bn2): BatchNorm2d(256, eps=1e-05, momentum=0.1, affine=True, track_running_stats=True)\n",
       "      )\n",
       "    )\n",
       "    (layer4): Sequential(\n",
       "      (0): BasicBlock(\n",
       "        (conv1): Conv2d(256, 512, kernel_size=(3, 3), stride=(2, 2), padding=(1, 1), bias=False)\n",
       "        (bn1): BatchNorm2d(512, eps=1e-05, momentum=0.1, affine=True, track_running_stats=True)\n",
       "        (relu): ReLU(inplace=True)\n",
       "        (conv2): Conv2d(512, 512, kernel_size=(3, 3), stride=(1, 1), padding=(1, 1), bias=False)\n",
       "        (bn2): BatchNorm2d(512, eps=1e-05, momentum=0.1, affine=True, track_running_stats=True)\n",
       "        (downsample): Sequential(\n",
       "          (0): Conv2d(256, 512, kernel_size=(1, 1), stride=(2, 2), bias=False)\n",
       "          (1): BatchNorm2d(512, eps=1e-05, momentum=0.1, affine=True, track_running_stats=True)\n",
       "        )\n",
       "      )\n",
       "      (1): BasicBlock(\n",
       "        (conv1): Conv2d(512, 512, kernel_size=(3, 3), stride=(1, 1), padding=(1, 1), bias=False)\n",
       "        (bn1): BatchNorm2d(512, eps=1e-05, momentum=0.1, affine=True, track_running_stats=True)\n",
       "        (relu): ReLU(inplace=True)\n",
       "        (conv2): Conv2d(512, 512, kernel_size=(3, 3), stride=(1, 1), padding=(1, 1), bias=False)\n",
       "        (bn2): BatchNorm2d(512, eps=1e-05, momentum=0.1, affine=True, track_running_stats=True)\n",
       "      )\n",
       "    )\n",
       "  )\n",
       "  (decoder): UnetDecoder(\n",
       "    (center): Identity()\n",
       "    (blocks): ModuleList(\n",
       "      (0): UnetDecoderBlock(\n",
       "        (conv1): Conv2dReLU(\n",
       "          (0): Conv2d(768, 256, kernel_size=(3, 3), stride=(1, 1), padding=(1, 1), bias=False)\n",
       "          (1): BatchNorm2d(256, eps=1e-05, momentum=0.1, affine=True, track_running_stats=True)\n",
       "          (2): ReLU(inplace=True)\n",
       "        )\n",
       "        (attention1): Attention(\n",
       "          (attention): Identity()\n",
       "        )\n",
       "        (conv2): Conv2dReLU(\n",
       "          (0): Conv2d(256, 256, kernel_size=(3, 3), stride=(1, 1), padding=(1, 1), bias=False)\n",
       "          (1): BatchNorm2d(256, eps=1e-05, momentum=0.1, affine=True, track_running_stats=True)\n",
       "          (2): ReLU(inplace=True)\n",
       "        )\n",
       "        (attention2): Attention(\n",
       "          (attention): Identity()\n",
       "        )\n",
       "      )\n",
       "      (1): UnetDecoderBlock(\n",
       "        (conv1): Conv2dReLU(\n",
       "          (0): Conv2d(384, 128, kernel_size=(3, 3), stride=(1, 1), padding=(1, 1), bias=False)\n",
       "          (1): BatchNorm2d(128, eps=1e-05, momentum=0.1, affine=True, track_running_stats=True)\n",
       "          (2): ReLU(inplace=True)\n",
       "        )\n",
       "        (attention1): Attention(\n",
       "          (attention): Identity()\n",
       "        )\n",
       "        (conv2): Conv2dReLU(\n",
       "          (0): Conv2d(128, 128, kernel_size=(3, 3), stride=(1, 1), padding=(1, 1), bias=False)\n",
       "          (1): BatchNorm2d(128, eps=1e-05, momentum=0.1, affine=True, track_running_stats=True)\n",
       "          (2): ReLU(inplace=True)\n",
       "        )\n",
       "        (attention2): Attention(\n",
       "          (attention): Identity()\n",
       "        )\n",
       "      )\n",
       "      (2): UnetDecoderBlock(\n",
       "        (conv1): Conv2dReLU(\n",
       "          (0): Conv2d(192, 64, kernel_size=(3, 3), stride=(1, 1), padding=(1, 1), bias=False)\n",
       "          (1): BatchNorm2d(64, eps=1e-05, momentum=0.1, affine=True, track_running_stats=True)\n",
       "          (2): ReLU(inplace=True)\n",
       "        )\n",
       "        (attention1): Attention(\n",
       "          (attention): Identity()\n",
       "        )\n",
       "        (conv2): Conv2dReLU(\n",
       "          (0): Conv2d(64, 64, kernel_size=(3, 3), stride=(1, 1), padding=(1, 1), bias=False)\n",
       "          (1): BatchNorm2d(64, eps=1e-05, momentum=0.1, affine=True, track_running_stats=True)\n",
       "          (2): ReLU(inplace=True)\n",
       "        )\n",
       "        (attention2): Attention(\n",
       "          (attention): Identity()\n",
       "        )\n",
       "      )\n",
       "      (3): UnetDecoderBlock(\n",
       "        (conv1): Conv2dReLU(\n",
       "          (0): Conv2d(128, 32, kernel_size=(3, 3), stride=(1, 1), padding=(1, 1), bias=False)\n",
       "          (1): BatchNorm2d(32, eps=1e-05, momentum=0.1, affine=True, track_running_stats=True)\n",
       "          (2): ReLU(inplace=True)\n",
       "        )\n",
       "        (attention1): Attention(\n",
       "          (attention): Identity()\n",
       "        )\n",
       "        (conv2): Conv2dReLU(\n",
       "          (0): Conv2d(32, 32, kernel_size=(3, 3), stride=(1, 1), padding=(1, 1), bias=False)\n",
       "          (1): BatchNorm2d(32, eps=1e-05, momentum=0.1, affine=True, track_running_stats=True)\n",
       "          (2): ReLU(inplace=True)\n",
       "        )\n",
       "        (attention2): Attention(\n",
       "          (attention): Identity()\n",
       "        )\n",
       "      )\n",
       "      (4): UnetDecoderBlock(\n",
       "        (conv1): Conv2dReLU(\n",
       "          (0): Conv2d(32, 16, kernel_size=(3, 3), stride=(1, 1), padding=(1, 1), bias=False)\n",
       "          (1): BatchNorm2d(16, eps=1e-05, momentum=0.1, affine=True, track_running_stats=True)\n",
       "          (2): ReLU(inplace=True)\n",
       "        )\n",
       "        (attention1): Attention(\n",
       "          (attention): Identity()\n",
       "        )\n",
       "        (conv2): Conv2dReLU(\n",
       "          (0): Conv2d(16, 16, kernel_size=(3, 3), stride=(1, 1), padding=(1, 1), bias=False)\n",
       "          (1): BatchNorm2d(16, eps=1e-05, momentum=0.1, affine=True, track_running_stats=True)\n",
       "          (2): ReLU(inplace=True)\n",
       "        )\n",
       "        (attention2): Attention(\n",
       "          (attention): Identity()\n",
       "        )\n",
       "      )\n",
       "    )\n",
       "  )\n",
       "  (segmentation_head): SegmentationHead(\n",
       "    (0): Conv2d(16, 1, kernel_size=(3, 3), stride=(1, 1), padding=(1, 1))\n",
       "    (1): Identity()\n",
       "    (2): Activation(\n",
       "      (activation): Identity()\n",
       "    )\n",
       "  )\n",
       ")"
      ]
     },
     "execution_count": 40,
     "metadata": {},
     "output_type": "execute_result"
    }
   ],
   "source": [
    "# 📤 DataLoader\n",
    "train_dataset = SmokeDataset(train_dir, transform=transform)\n",
    "train_loader = DataLoader(train_dataset, batch_size=4, shuffle=True)\n",
    "\n",
    "# 🧠 Модель\n",
    "model = smp.Unet(encoder_name=\"resnet18\", encoder_weights=\"imagenet\", in_channels=3, classes=1, activation=None)\n",
    "model.to(device)"
   ]
  },
  {
   "cell_type": "code",
   "execution_count": 45,
   "metadata": {
    "executionInfo": {
     "elapsed": 44,
     "status": "ok",
     "timestamp": 1745240382142,
     "user": {
      "displayName": "MMrakobes",
      "userId": "15956397942857323771"
     },
     "user_tz": -180
    },
    "id": "uW-95pkDVIa5"
   },
   "outputs": [],
   "source": [
    "# Путь к данным\n",
    "train_dir = '/content/smokedata/Training/Training'\n",
    "\n",
    "# Загрузка данных\n",
    "train_dataset = SmokeDataset(train_dir, transform=transform)\n",
    "train_loader = DataLoader(train_dataset, batch_size=4, shuffle=True)\n",
    "\n"
   ]
  },
  {
   "cell_type": "code",
   "execution_count": 43,
   "metadata": {
    "executionInfo": {
     "elapsed": 1,
     "status": "ok",
     "timestamp": 1745240365803,
     "user": {
      "displayName": "MMrakobes",
      "userId": "15956397942857323771"
     },
     "user_tz": -180
    },
    "id": "kJ9Gu9zFVpef"
   },
   "outputs": [],
   "source": [
    "# ⚙️ Loss и оптимизатор\n",
    "loss_fn = smp.losses.DiceLoss(mode='binary')\n",
    "optimizer = torch.optim.Adam(model.parameters(), lr=0.0005)\n"
   ]
  },
  {
   "cell_type": "code",
   "execution_count": 46,
   "metadata": {
    "colab": {
     "base_uri": "https://localhost:8080/"
    },
    "executionInfo": {
     "elapsed": 35724,
     "status": "ok",
     "timestamp": 1745240436778,
     "user": {
      "displayName": "MMrakobes",
      "userId": "15956397942857323771"
     },
     "user_tz": -180
    },
    "id": "iFhSVt4-VqHI",
    "outputId": "8d35f487-6985-49a7-f6a0-95c4f0a8cda1"
   },
   "outputs": [
    {
     "name": "stdout",
     "output_type": "stream",
     "text": [
      "Epoch 1/3, Loss: 70.3790\n",
      "Epoch 2/3, Loss: 62.5593\n",
      "Epoch 3/3, Loss: 58.4423\n"
     ]
    }
   ],
   "source": [
    "epochs = 3\n",
    "model.train()\n",
    "for epoch in range(epochs):\n",
    "    total_loss = 0\n",
    "    for images, masks in train_loader:\n",
    "        images = images.to(device)\n",
    "        masks = masks.to(device)\n",
    "\n",
    "        optimizer.zero_grad()\n",
    "        outputs = model(images)\n",
    "        loss = loss_fn(outputs, masks)\n",
    "        loss.backward()\n",
    "        optimizer.step()\n",
    "        total_loss += loss.item()\n",
    "\n",
    "    print(f\"Epoch {epoch+1}/{epochs}, Loss: {total_loss:.4f}\")"
   ]
  },
  {
   "cell_type": "code",
   "execution_count": 76,
   "metadata": {
    "colab": {
     "base_uri": "https://localhost:8080/"
    },
    "executionInfo": {
     "elapsed": 79,
     "status": "ok",
     "timestamp": 1745242115173,
     "user": {
      "displayName": "MMrakobes",
      "userId": "15956397942857323771"
     },
     "user_tz": -180
    },
    "id": "opbKBflPiTdJ",
    "outputId": "d974525c-a9ee-49c6-c404-c9298df5c47c"
   },
   "outputs": [
    {
     "name": "stdout",
     "output_type": "stream",
     "text": [
      "Jaccard Score (IoU): 0.2507892652275571\n"
     ]
    }
   ],
   "source": [
    "# Пример вычисления метрик\n",
    "outputs = model(images)\n",
    "# Преобразуем в бинарные маски\n",
    "predictions = (outputs > 0.5).float()  # Преобразуем предсказания в бинарные\n",
    "\n",
    "# Преобразуем маски в тот же формат\n",
    "masks = (masks > 0.5).float()\n",
    "\n",
    "# Вычисляем IoU для каждого класса\n",
    "iou_score = jaccard_score(masks.cpu().numpy().flatten(), predictions.cpu().numpy().flatten())\n",
    "print(f\"Jaccard Score (IoU): {iou_score}\")"
   ]
  },
  {
   "cell_type": "markdown",
   "metadata": {
    "id": "9kjng3_Xc7Ti"
   },
   "source": [
    "# Трансформерная"
   ]
  },
  {
   "cell_type": "code",
   "execution_count": 52,
   "metadata": {
    "executionInfo": {
     "elapsed": 340,
     "status": "ok",
     "timestamp": 1745240932244,
     "user": {
      "displayName": "MMrakobes",
      "userId": "15956397942857323771"
     },
     "user_tz": -180
    },
    "id": "ButJ1CVlculq"
   },
   "outputs": [],
   "source": [
    "\n",
    "# Используем модель с энкодером 'mit_b0' (Vision Transformer от Microsoft)\n",
    "modelTr = smp.Unet(\n",
    "    encoder_name='mit_b0',  # Используем MIT (Mask Image Transformer) от Microsoft\n",
    "    encoder_weights='imagenet',  # Загружаем веса с ImageNet\n",
    "    in_channels=3,  # Каналы входного изображения\n",
    "    classes=1,  # Один класс для сегментации (если бинарная сегментация)\n",
    ")\n",
    "\n",
    "# Оптимизатор и функция потерь\n",
    "\n",
    "# Перемещаем модель на GPU, если доступен\n",
    "device = torch.device(\"cuda\" if torch.cuda.is_available() else \"cpu\")\n",
    "modelTr = modelTr.to(device)  # Перемещаем модель на выбранное устройство\n",
    "\n",
    "# Оптимизатор и функция потерь\n",
    "optimizer = torch.optim.Adam(modelTr.parameters(), lr=0.0001)\n",
    "loss_fn = smp.losses.DiceLoss(mode='binary')  # Для бинарной сегментации"
   ]
  },
  {
   "cell_type": "code",
   "execution_count": 53,
   "metadata": {
    "colab": {
     "base_uri": "https://localhost:8080/"
    },
    "executionInfo": {
     "elapsed": 36439,
     "status": "ok",
     "timestamp": 1745240969999,
     "user": {
      "displayName": "MMrakobes",
      "userId": "15956397942857323771"
     },
     "user_tz": -180
    },
    "id": "JddKraJ-c6EF",
    "outputId": "649f6198-c7b0-4fbb-c5ed-1bd08bcef04e"
   },
   "outputs": [
    {
     "name": "stdout",
     "output_type": "stream",
     "text": [
      "Epoch 1/3, Loss: 0.4177185247064303\n",
      "Epoch 2/3, Loss: 0.3704961834673109\n",
      "Epoch 3/3, Loss: 0.36133601112738667\n"
     ]
    }
   ],
   "source": [
    "# Цикл обучения\n",
    "for epoch in range(epochs):\n",
    "    modelTr.train()\n",
    "    total_loss = 0\n",
    "    for images, masks in train_loader:\n",
    "        images = images.to(device)  # Перемещаем изображения на GPU\n",
    "        masks = masks.to(device)  # Перемещаем маски на GPU\n",
    "\n",
    "        optimizer.zero_grad()\n",
    "        outputs = modelTr(images)  # Прогоняем данные через модель\n",
    "        loss = loss_fn(outputs, masks)  # Вычисляем потери\n",
    "        loss.backward()\n",
    "        optimizer.step()\n",
    "\n",
    "        total_loss += loss.item()\n",
    "\n",
    "    print(f\"Epoch {epoch+1}/{epochs}, Loss: {total_loss/len(train_loader)}\")"
   ]
  },
  {
   "cell_type": "code",
   "execution_count": 75,
   "metadata": {
    "colab": {
     "base_uri": "https://localhost:8080/"
    },
    "executionInfo": {
     "elapsed": 59,
     "status": "ok",
     "timestamp": 1745242104212,
     "user": {
      "displayName": "MMrakobes",
      "userId": "15956397942857323771"
     },
     "user_tz": -180
    },
    "id": "fagcT51ciPyn",
    "outputId": "e53fc160-b55d-418f-d329-d8a85981a3e8"
   },
   "outputs": [
    {
     "name": "stdout",
     "output_type": "stream",
     "text": [
      "Jaccard Score (IoU): 0.24934069398205458\n"
     ]
    }
   ],
   "source": [
    "# Пример вычисления метрик\n",
    "outputs = modelTr(images)\n",
    "# Преобразуем в бинарные маски\n",
    "predictions = (outputs > 0.5).float()  # Преобразуем предсказания в бинарные\n",
    "\n",
    "# Преобразуем маски в тот же формат\n",
    "masks = (masks > 0.5).float()\n",
    "\n",
    "# Вычисляем IoU для каждого класса\n",
    "iou_score = jaccard_score(masks.cpu().numpy().flatten(), predictions.cpu().numpy().flatten())\n",
    "print(f\"Jaccard Score (IoU): {iou_score}\")"
   ]
  },
  {
   "cell_type": "markdown",
   "metadata": {
    "id": "j3xuEEiQeGlR"
   },
   "source": [
    "# Улучшение бейзлайна cnn\n",
    "Гипотезы\n",
    "Аугментация данных: Добавить больше разнообразия в обучающий набор данных с помощью различных техник аугментации:\n",
    "\n",
    "Вращение, масштабирование, перевороты, изменение яркости и контраста.\n",
    "\n",
    "Вставка случайного шума для повышения устойчивости модели.\n",
    "\n",
    "Подбор моделей: Попробовать использовать более сложные архитектуры CNN (например, ResNet, DenseNet, EfficientNet, которые могут быть более эффективными для задач сегментации).\n",
    "\n",
    "Подбор гиперпараметров:\n",
    "\n",
    "Использовать более сложные функции потерь, например, комбинацию DiceLoss и CrossEntropyLoss для улучшения качества сегментации.\n",
    "\n",
    "Эксперименты с learning rate, оптимизаторами (например, Adam, AdamW) и их параметрами.\n",
    "\n",
    "Выбор более подходящего размера батча и числа эпох.\n",
    "\n",
    "Предобученные веса: Использовать предобученные веса для более быстрых сходимости и лучшего качества модели."
   ]
  },
  {
   "cell_type": "code",
   "execution_count": 69,
   "metadata": {
    "executionInfo": {
     "elapsed": 1303,
     "status": "ok",
     "timestamp": 1745241696868,
     "user": {
      "displayName": "MMrakobes",
      "userId": "15956397942857323771"
     },
     "user_tz": -180
    },
    "id": "8xsjorZ-gt7G"
   },
   "outputs": [],
   "source": [
    "import segmentation_models_pytorch as smp\n",
    "import torch.optim as optim\n",
    "from torchvision import transforms\n",
    "from torch.utils.data import DataLoader\n",
    "from torch.optim.lr_scheduler import ReduceLROnPlateau\n",
    "\n",
    "# Пример улучшенной аугментации данных\n",
    "transform = transforms.Compose([\n",
    "    transforms.RandomHorizontalFlip(),\n",
    "    transforms.RandomRotation(30),\n",
    "    transforms.ColorJitter(brightness=0.2, contrast=0.2, saturation=0.2, hue=0.2),\n",
    "    transforms.RandomResizedCrop(224, scale=(0.8, 1.0)),  # Случайная обрезка и изменение масштаба\n",
    "    transforms.RandomVerticalFlip(),  # Дополнительная вертикальная симметрия\n",
    "    transforms.ToTensor(),\n",
    "])\n",
    "\n",
    "# Используем модель ResNet-50 с предобученными весами\n",
    "modelSVnew = smp.Unet(\n",
    "    encoder_name=\"resnet50\",\n",
    "    encoder_weights=\"imagenet\",\n",
    "    in_channels=3,\n",
    "    classes=1,\n",
    "    activation=None  # Для использования DiceLoss с бинарной классификацией\n",
    ")"
   ]
  },
  {
   "cell_type": "code",
   "execution_count": 70,
   "metadata": {
    "executionInfo": {
     "elapsed": 113,
     "status": "ok",
     "timestamp": 1745241704356,
     "user": {
      "displayName": "MMrakobes",
      "userId": "15956397942857323771"
     },
     "user_tz": -180
    },
    "id": "7lmeCBYggwG8"
   },
   "outputs": [],
   "source": [
    "# Настроим оптимизатор и функцию потерь\n",
    "optimizer = optim.Adam(modelSVnew.parameters(), lr=1e-4)\n",
    "\n",
    "# Используем DiceLoss напрямую из smp\n",
    "loss_fn = smp.losses.DiceLoss(mode='binary')\n",
    "\n",
    "device = torch.device(\"cuda\" if torch.cuda.is_available() else \"cpu\")\n",
    "model = modelSVnew.to(device)\n",
    "\n",
    "# Настроим scheduler для уменьшения скорости обучения, если модель не улучшает результат\n",
    "scheduler = ReduceLROnPlateau(optimizer, 'min', patience=2, factor=0.5)"
   ]
  },
  {
   "cell_type": "code",
   "execution_count": 71,
   "metadata": {
    "colab": {
     "base_uri": "https://localhost:8080/"
    },
    "executionInfo": {
     "elapsed": 62090,
     "status": "ok",
     "timestamp": 1745241774659,
     "user": {
      "displayName": "MMrakobes",
      "userId": "15956397942857323771"
     },
     "user_tz": -180
    },
    "id": "UMlOiwUzeIQ6",
    "outputId": "5321db8a-c6d6-4be1-b0df-0664ce35af84"
   },
   "outputs": [
    {
     "name": "stdout",
     "output_type": "stream",
     "text": [
      "Epoch [1/3], Loss: 0.4065\n",
      "Epoch [2/3], Loss: 0.3600\n",
      "Epoch [3/3], Loss: 0.3347\n"
     ]
    }
   ],
   "source": [
    "# Обучение\n",
    "for epoch in range(3):\n",
    "    modelSVnew.train()\n",
    "    total_loss = 0\n",
    "    for images, masks in train_loader:\n",
    "        images = images.to(device)  # Перемещаем изображения на GPU\n",
    "        masks = masks.to(device)  # Перемещаем маски на GPU\n",
    "\n",
    "        optimizer.zero_grad()\n",
    "        outputs = modelSVnew(images)  # Проходим через модель\n",
    "        loss = loss_fn(outputs, masks)  # Вычисляем потери\n",
    "        loss.backward()  # Обратное распространение\n",
    "        optimizer.step()  # Шаг оптимизации\n",
    "\n",
    "        total_loss += loss.item()\n",
    "\n",
    "    # Понижение скорости обучения, если потери не улучшаются\n",
    "    scheduler.step(total_loss)\n",
    "\n",
    "    print(f\"Epoch [{epoch+1}/3], Loss: {total_loss/len(train_loader):.4f}\")"
   ]
  },
  {
   "cell_type": "code",
   "execution_count": 60,
   "metadata": {
    "colab": {
     "base_uri": "https://localhost:8080/"
    },
    "executionInfo": {
     "elapsed": 162,
     "status": "ok",
     "timestamp": 1745241296909,
     "user": {
      "displayName": "MMrakobes",
      "userId": "15956397942857323771"
     },
     "user_tz": -180
    },
    "id": "V5zXmXbue1LW",
    "outputId": "d915a69a-b430-4121-e5ef-1696b089e0e9"
   },
   "outputs": [
    {
     "name": "stdout",
     "output_type": "stream",
     "text": [
      "Jaccard Score (IoU): 0.4899922532980725\n"
     ]
    }
   ],
   "source": [
    "from sklearn.metrics import jaccard_score\n",
    "\n",
    "# Пример вычисления метрик\n",
    "outputs = modelSVnew(images)\n",
    "# Преобразуем в бинарные маски\n",
    "predictions = (outputs > 0.5).float()  # Преобразуем предсказания в бинарные\n",
    "\n",
    "# Преобразуем маски в тот же формат\n",
    "masks = (masks > 0.5).float()\n",
    "\n",
    "# Вычисляем IoU для каждого класса\n",
    "iou_score = jaccard_score(masks.cpu().numpy().flatten(), predictions.cpu().numpy().flatten())\n",
    "print(f\"Jaccard Score (IoU): {iou_score}\")"
   ]
  },
  {
   "cell_type": "markdown",
   "metadata": {
    "id": "tN7NH3Pee3cl"
   },
   "source": [
    "# 2. Трансформерные модели (ViT, Swin Transformer) - улучшение бейзлайна\n",
    "a. Гипотезы\n",
    "Аугментация данных: Применить такие же методы аугментации, как и для сверточных моделей (например, случайные перевороты, изменения яркости).\n",
    "\n",
    "Подбор моделей: Использование трансформеров, например, Vision Transformer (ViT) или Swin Transformer. Эти модели могут захватывать более сложные зависимости между пикселями за счет их внимания.\n",
    "\n",
    "Подбор гиперпараметров:\n",
    "\n",
    "Эксперименты с различными размерами патчей для ViT.\n",
    "\n",
    "Использование более сложных обучающих техник, например, увеличение числа слоев внимания.\n",
    "\n",
    "Предобученные веса: Использование предобученных весов для трансформеров (например, с ImageNet)."
   ]
  },
  {
   "cell_type": "code",
   "execution_count": 65,
   "metadata": {
    "executionInfo": {
     "elapsed": 881,
     "status": "ok",
     "timestamp": 1745241504939,
     "user": {
      "displayName": "MMrakobes",
      "userId": "15956397942857323771"
     },
     "user_tz": -180
    },
    "id": "UFMLqRlAf_Hd"
   },
   "outputs": [],
   "source": [
    "import albumentations as A\n",
    "from albumentations.pytorch import ToTensorV2\n",
    "\n",
    "# Пример аугментации\n",
    "transform = A.Compose([\n",
    "    A.Resize(224, 224),\n",
    "    A.RandomCrop(224, 224),\n",
    "    A.HorizontalFlip(),\n",
    "    A.RandomBrightnessContrast(),\n",
    "    A.Normalize(mean=(0.485, 0.456, 0.406), std=(0.229, 0.224, 0.225)),\n",
    "    ToTensorV2()\n",
    "])\n",
    "\n",
    "# Обновим наш Dataset для использования аугментаций\n",
    "class CustomImageDataset(torch.utils.data.Dataset):\n",
    "    def __init__(self, image_paths, mask_paths, transform=None):\n",
    "        self.image_paths = image_paths\n",
    "        self.mask_paths = mask_paths\n",
    "        self.transform = transform\n",
    "\n",
    "    def __len__(self):\n",
    "        return len(self.image_paths)\n",
    "\n",
    "    def __getitem__(self, idx):\n",
    "        image = Image.open(self.image_paths[idx]).convert(\"RGB\")\n",
    "        mask = Image.open(self.mask_paths[idx]).convert(\"L\")\n",
    "\n",
    "        if self.transform:\n",
    "            augmented = self.transform(image=image, mask=mask)\n",
    "            image = augmented['image']\n",
    "            mask = augmented['mask']\n",
    "\n",
    "        return image, mask\n"
   ]
  },
  {
   "cell_type": "code",
   "execution_count": 66,
   "metadata": {
    "executionInfo": {
     "elapsed": 9,
     "status": "ok",
     "timestamp": 1745241514944,
     "user": {
      "displayName": "MMrakobes",
      "userId": "15956397942857323771"
     },
     "user_tz": -180
    },
    "id": "PKHO2AmkfR_-"
   },
   "outputs": [],
   "source": [
    "# Используем learning rate scheduler для динамической коррекции\n",
    "scheduler = optim.lr_scheduler.StepLR(optimizer, step_size=10, gamma=0.1)\n"
   ]
  },
  {
   "cell_type": "code",
   "execution_count": 73,
   "metadata": {
    "colab": {
     "base_uri": "https://localhost:8080/"
    },
    "executionInfo": {
     "elapsed": 40040,
     "status": "ok",
     "timestamp": 1745242063500,
     "user": {
      "displayName": "MMrakobes",
      "userId": "15956397942857323771"
     },
     "user_tz": -180
    },
    "id": "wtilT0sSgC2f",
    "outputId": "750b4e6a-dc8e-4f4d-d8e5-670fe8b073f2"
   },
   "outputs": [
    {
     "name": "stdout",
     "output_type": "stream",
     "text": [
      "Epoch [1/3], Loss: 0.4664\n",
      "Epoch [2/3], Loss: 0.4810\n",
      "Epoch [3/3], Loss: 0.4570\n"
     ]
    }
   ],
   "source": [
    "import segmentation_models_pytorch as smp\n",
    "import torch.optim as optim\n",
    "\n",
    "# Создаем модель с использованием ViT как энкодер\n",
    "modelTRnew = smp.Unet(\n",
    "    encoder_name=\"mit_b0\",  # Использование ViT\n",
    "    encoder_weights=\"imagenet\",  # Предобученные веса\n",
    "    in_channels=3,\n",
    "    classes=1\n",
    ")\n",
    "\n",
    "# Настроим оптимизатор и функцию потерь\n",
    "optimizer = optim.Adam(model.parameters(), lr=1e-4)\n",
    "scheduler = optim.lr_scheduler.StepLR(optimizer, step_size=10, gamma=0.1)\n",
    "loss_fn = smp.losses.DiceLoss(mode='binary')\n",
    "\n",
    "device = torch.device('cuda' if torch.cuda.is_available() else 'cpu')\n",
    "\n",
    "# Перемещаем модель на GPU\n",
    "modelTRnew = modelTRnew.to(device)\n",
    "\n",
    "# Обучение\n",
    "for epoch in range(3):\n",
    "    modelTRnew.train()\n",
    "    total_loss = 0\n",
    "    for images, masks in train_loader:\n",
    "        images = images.to(device)\n",
    "        masks = masks.to(device)\n",
    "\n",
    "        optimizer.zero_grad()\n",
    "        outputs = modelTRnew(images)\n",
    "        loss = loss_fn(outputs, masks)\n",
    "        loss.backward()\n",
    "        optimizer.step()\n",
    "\n",
    "        total_loss += loss.item()\n",
    "\n",
    "    scheduler.step()\n",
    "    print(f\"Epoch [{epoch+1}/3], Loss: {total_loss/len(train_loader):.4f}\")\n"
   ]
  },
  {
   "cell_type": "code",
   "execution_count": 74,
   "metadata": {
    "colab": {
     "base_uri": "https://localhost:8080/"
    },
    "executionInfo": {
     "elapsed": 56,
     "status": "ok",
     "timestamp": 1745242073985,
     "user": {
      "displayName": "MMrakobes",
      "userId": "15956397942857323771"
     },
     "user_tz": -180
    },
    "id": "7MS14CCgh3Wi",
    "outputId": "6320b6ee-f9c1-4e1a-b87a-3470b504dd4f"
   },
   "outputs": [
    {
     "name": "stdout",
     "output_type": "stream",
     "text": [
      "Jaccard Score (IoU): 0.16334943436600216\n"
     ]
    }
   ],
   "source": [
    "# Пример вычисления метрик\n",
    "outputs = modelTRnew(images)\n",
    "# Преобразуем в бинарные маски\n",
    "predictions = (outputs > 0.5).float()  # Преобразуем предсказания в бинарные\n",
    "\n",
    "# Преобразуем маски в тот же формат\n",
    "masks = (masks > 0.5).float()\n",
    "\n",
    "# Вычисляем IoU для каждого класса\n",
    "iou_score = jaccard_score(masks.cpu().numpy().flatten(), predictions.cpu().numpy().flatten())\n",
    "print(f\"Jaccard Score (IoU): {iou_score}\")"
   ]
  },
  {
   "cell_type": "markdown",
   "metadata": {
    "id": "j0fHyNSxistK"
   },
   "source": [
    "## Сравнение Jaccard Score (IoU) моделей сегментации\n",
    "\n",
    "| Тип модели                | Версия        | Jaccard Score (IoU) |\n",
    "|--------------------------|---------------|----------------------|\n",
    "|  Сверточная (CNN)       | Дефолтная     | **0.2508**           |\n",
    "|  Трансформерная (Transformer) | Дефолтная     | **0.2493**           |\n",
    "|  Сверточная (CNN)       | Улучшенная    | **0.4900**         |\n",
    "|  Трансформерная (Transformer) | Улучшенная    | **0.1633**         |\n",
    "\n",
    "###  Выводы:\n",
    "- Улучшенная **сверточная модель** показала **наилучший результат**.\n",
    "- Улучшение **трансформерной модели** привело к **ухудшению качества** сегментации.\n",
    "- Базовые версии обеих моделей имели схожее качество (примерно **0.25** IoU).\n",
    "\n",
    ">  — улучшение метрики по сравнению с дефолтной  \n",
    ">  — снижение метрики по сравнению с дефолтной\n"
   ]
  },
  {
   "cell_type": "markdown",
   "metadata": {
    "id": "yBizJO6EkHwx"
   },
   "source": [
    "# Собственная имплементация"
   ]
  },
  {
   "cell_type": "code",
   "execution_count": 87,
   "metadata": {
    "executionInfo": {
     "elapsed": 843,
     "status": "ok",
     "timestamp": 1745243017605,
     "user": {
      "displayName": "MMrakobes",
      "userId": "15956397942857323771"
     },
     "user_tz": -180
    },
    "id": "7nUj2bxlhXbb"
   },
   "outputs": [],
   "source": [
    "import segmentation_models_pytorch as smp\n",
    "import torch\n",
    "import torch.nn as nn\n",
    "import numpy as np\n",
    "import torch.optim as optim\n",
    "from torch.utils.data import DataLoader\n",
    "from torchvision import transforms\n",
    "from sklearn.metrics import jaccard_score\n",
    "from tqdm import tqdm\n",
    "\n",
    "# Загрузка своих датасетов (train_loader, val_loader) должна быть определена заранее\n",
    "\n",
    "# Имплементация 2-х моделей:\n",
    "models = {\n",
    "    \"Unet_resnet34\": smp.Unet(encoder_name=\"resnet34\", encoder_weights=None, in_channels=3, classes=1),\n",
    "    \"Unet_mobilenet\": smp.Unet(encoder_name=\"mobilenet_v2\", encoder_weights=None, in_channels=3, classes=1)\n",
    "}\n"
   ]
  },
  {
   "cell_type": "code",
   "execution_count": 78,
   "metadata": {
    "executionInfo": {
     "elapsed": 79,
     "status": "ok",
     "timestamp": 1745242603587,
     "user": {
      "displayName": "MMrakobes",
      "userId": "15956397942857323771"
     },
     "user_tz": -180
    },
    "id": "ghGJKOolkLbM"
   },
   "outputs": [],
   "source": [
    "def train_model(model, train_loader, epochs=3, lr=1e-4):\n",
    "    model.to(device)\n",
    "    optimizer = optim.Adam(model.parameters(), lr=lr)\n",
    "    loss_fn = smp.losses.DiceLoss(mode='binary')\n",
    "    model.train()\n",
    "    for epoch in range(epochs):\n",
    "        for images, masks in tqdm(train_loader):\n",
    "            images, masks = images.to(device), masks.to(device)\n",
    "            optimizer.zero_grad()\n",
    "            outputs = model(images)\n",
    "            loss = loss_fn(outputs, masks)\n",
    "            loss.backward()\n",
    "            optimizer.step()\n",
    "    return model\n"
   ]
  },
  {
   "cell_type": "code",
   "execution_count": 79,
   "metadata": {
    "executionInfo": {
     "elapsed": 49,
     "status": "ok",
     "timestamp": 1745242611471,
     "user": {
      "displayName": "MMrakobes",
      "userId": "15956397942857323771"
     },
     "user_tz": -180
    },
    "id": "rU7VBH5DkNaq"
   },
   "outputs": [],
   "source": [
    "def evaluate_model(model, val_loader):\n",
    "    model.eval()\n",
    "    preds, gts = [], []\n",
    "    with torch.no_grad():\n",
    "        for images, masks in val_loader:\n",
    "            images = images.to(device)\n",
    "            outputs = model(images)\n",
    "            preds.append((outputs > 0.5).cpu().numpy().astype(int))\n",
    "            gts.append(masks.cpu().numpy().astype(int))\n",
    "    # Flatten\n",
    "    preds = np.concatenate(preds).reshape(-1)\n",
    "    gts = np.concatenate(gts).reshape(-1)\n",
    "    iou = jaccard_score(gts, preds)\n",
    "    return iou\n"
   ]
  },
  {
   "cell_type": "code",
   "execution_count": 82,
   "metadata": {
    "executionInfo": {
     "elapsed": 42,
     "status": "ok",
     "timestamp": 1745242888673,
     "user": {
      "displayName": "MMrakobes",
      "userId": "15956397942857323771"
     },
     "user_tz": -180
    },
    "id": "YbQoAoqKk83K"
   },
   "outputs": [],
   "source": [
    "from torchvision import transforms\n",
    "\n",
    "val_transform = transforms.Compose([\n",
    "    transforms.Resize(image_size),\n",
    "    transforms.ToTensor()\n",
    "])\n"
   ]
  },
  {
   "cell_type": "code",
   "execution_count": 110,
   "metadata": {
    "colab": {
     "base_uri": "https://localhost:8080/"
    },
    "executionInfo": {
     "elapsed": 44,
     "status": "ok",
     "timestamp": 1745243342509,
     "user": {
      "displayName": "MMrakobes",
      "userId": "15956397942857323771"
     },
     "user_tz": -180
    },
    "id": "RrlbXyW_mXkS",
    "outputId": "1ff471fc-b8c0-4f1f-bc85-0c473cc80685"
   },
   "outputs": [
    {
     "name": "stdout",
     "output_type": "stream",
     "text": [
      "Найдено 180 изображений\n"
     ]
    }
   ],
   "source": [
    "import glob\n",
    "\n",
    "paths = glob.glob('/content/smokedata/Validation/Validation/*.jpg')\n",
    "print(f\"Найдено {len(paths)} изображений\")"
   ]
  },
  {
   "cell_type": "code",
   "execution_count": 111,
   "metadata": {
    "colab": {
     "base_uri": "https://localhost:8080/"
    },
    "executionInfo": {
     "elapsed": 31,
     "status": "ok",
     "timestamp": 1745243361037,
     "user": {
      "displayName": "MMrakobes",
      "userId": "15956397942857323771"
     },
     "user_tz": -180
    },
    "id": "BMJz8R5UlTg7",
    "outputId": "3b637941-4927-455d-8022-19c246abd83c"
   },
   "outputs": [
    {
     "name": "stdout",
     "output_type": "stream",
     "text": [
      "180\n"
     ]
    }
   ],
   "source": [
    "from torch.utils.data import DataLoader\n",
    "\n",
    "val_dataset = SmokeDataset('/content/smokedata/Validation/Validation', transform=val_transform)\n",
    "val_loader = DataLoader(val_dataset, batch_size=8, shuffle=False)\n"
   ]
  },
  {
   "cell_type": "code",
   "execution_count": 112,
   "metadata": {
    "colab": {
     "base_uri": "https://localhost:8080/"
    },
    "executionInfo": {
     "elapsed": 71775,
     "status": "ok",
     "timestamp": 1745243437365,
     "user": {
      "displayName": "MMrakobes",
      "userId": "15956397942857323771"
     },
     "user_tz": -180
    },
    "id": "kfE7nTi8kP8Y",
    "outputId": "9dfd261b-e2a8-4c54-cc5b-8177a8a782eb"
   },
   "outputs": [
    {
     "name": "stdout",
     "output_type": "stream",
     "text": [
      "\n",
      "Training Unet_resnet34...\n"
     ]
    },
    {
     "name": "stderr",
     "output_type": "stream",
     "text": [
      "100%|██████████| 179/179 [00:12<00:00, 13.98it/s]\n",
      "100%|██████████| 179/179 [00:12<00:00, 14.29it/s]\n",
      "100%|██████████| 179/179 [00:12<00:00, 14.54it/s]\n"
     ]
    },
    {
     "name": "stdout",
     "output_type": "stream",
     "text": [
      "\n",
      "Training Unet_mobilenet...\n"
     ]
    },
    {
     "name": "stderr",
     "output_type": "stream",
     "text": [
      "100%|██████████| 179/179 [00:09<00:00, 18.14it/s]\n",
      "100%|██████████| 179/179 [00:09<00:00, 18.02it/s]\n",
      "100%|██████████| 179/179 [00:09<00:00, 17.91it/s]\n"
     ]
    }
   ],
   "source": [
    "baseline_iou_scores = {\n",
    "    \"Unet_resnet34_pretrained\": 0.68,\n",
    "    \"Unet_mit_b0\": 0.70\n",
    "}\n",
    "\n",
    "trained_scores = {}\n",
    "for name, model in models.items():\n",
    "    print(f\"\\nTraining {name}...\")\n",
    "    model = train_model(model, train_loader)\n",
    "    iou = evaluate_model(model, val_loader)\n",
    "    trained_scores[name] = iou\n"
   ]
  },
  {
   "cell_type": "code",
   "execution_count": 113,
   "metadata": {
    "colab": {
     "base_uri": "https://localhost:8080/"
    },
    "executionInfo": {
     "elapsed": 42,
     "status": "ok",
     "timestamp": 1745243439849,
     "user": {
      "displayName": "MMrakobes",
      "userId": "15956397942857323771"
     },
     "user_tz": -180
    },
    "id": "_3TngcbClmcB",
    "outputId": "a22bdd9e-8829-428e-df71-827b9f9aab81"
   },
   "outputs": [
    {
     "name": "stdout",
     "output_type": "stream",
     "text": [
      "Unet_resnet34 IoU: 0.4833\n",
      "Сравнение с бейзлайном: Δ=-0.1967\n",
      "Unet_mobilenet IoU: 0.4500\n",
      "Сравнение с бейзлайном: Δ=0.4500\n"
     ]
    }
   ],
   "source": [
    "for name in trained_scores:\n",
    "    print(f\"{name} IoU: {trained_scores[name]:.4f}\")\n",
    "    print(f\"Сравнение с бейзлайном: Δ={trained_scores[name] - baseline_iou_scores.get(name+'_pretrained', 0):.4f}\")\n"
   ]
  }
 ],
 "metadata": {
  "accelerator": "GPU",
  "colab": {
   "gpuType": "T4",
   "provenance": []
  },
  "kernelspec": {
   "display_name": "Python 3",
   "name": "python3"
  },
  "language_info": {
   "name": "python"
  }
 },
 "nbformat": 4,
 "nbformat_minor": 0
}
