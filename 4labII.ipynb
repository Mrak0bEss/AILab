{
  "nbformat": 4,
  "nbformat_minor": 0,
  "metadata": {
    "colab": {
      "provenance": []
    },
    "kernelspec": {
      "name": "python3",
      "display_name": "Python 3"
    },
    "language_info": {
      "name": "python"
    }
  },
  "cells": [
    {
      "cell_type": "code",
      "execution_count": null,
      "metadata": {
        "id": "Qt9iPbUVnRSM"
      },
      "outputs": [],
      "source": [
        "import pandas as pd\n",
        "from sklearn.ensemble import RandomForestClassifier, RandomForestRegressor\n",
        "from sklearn.metrics import accuracy_score, classification_report, mean_squared_error, r2_score\n",
        "from sklearn.feature_extraction.text import CountVectorizer\n",
        "from sklearn.model_selection import train_test_split\n",
        "from sklearn.model_selection import GridSearchCV\n",
        "import numpy as np\n",
        "\n",
        "# === 1. Создание бейзлайна ===\n",
        "# Классификация\n",
        "classification_data = pd.read_csv(\"/content/drive/MyDrive/Colab Notebooks/AiDatasets/jobDs.csv\")\n",
        "classification_data = classification_data.dropna()\n",
        "X_text = classification_data['job_title']\n",
        "y_class = classification_data['category']\n",
        "\n",
        "vectorizer = CountVectorizer()\n",
        "X_class = vectorizer.fit_transform(X_text)\n",
        "\n",
        "X_train_class, X_test_class, y_train_class, y_test_class = train_test_split(X_class, y_class, test_size=0.2, random_state=42)"
      ]
    },
    {
      "cell_type": "code",
      "source": [
        "regression_data = pd.read_csv(\"/content/drive/MyDrive/Colab Notebooks/AiDatasets/Delhi_v2.csv\")\n",
        "X_reg = regression_data.drop(columns=[\"price\", \"Address\", \"desc\"])\n",
        "y_reg = regression_data[\"price\"]\n",
        "X_reg = pd.get_dummies(X_reg, drop_first=True)\n",
        "\n",
        "X_train_reg, X_test_reg, y_train_reg, y_test_reg = train_test_split(X_reg, y_reg, test_size=0.2, random_state=42)"
      ],
      "metadata": {
        "id": "akXrCffY-YNv"
      },
      "execution_count": null,
      "outputs": []
    },
    {
      "cell_type": "code",
      "source": [
        "# Модель случайного леса для классификации\n",
        "clf = RandomForestClassifier(random_state=42)\n",
        "clf.fit(X_train_class, y_train_class)\n",
        "y_pred_class = clf.predict(X_test_class)\n",
        "\n",
        "print(\"=== Классификация: Бейзлайн ===\")\n",
        "print(\"Accuracy:\", accuracy_score(y_test_class, y_pred_class))\n",
        "print(classification_report(y_test_class, y_pred_class))"
      ],
      "metadata": {
        "colab": {
          "base_uri": "https://localhost:8080/"
        },
        "id": "H4iMWa0t-yTG",
        "outputId": "6f7a5f8e-5a16-441d-8ba6-05647c2f6995"
      },
      "execution_count": null,
      "outputs": [
        {
          "output_type": "stream",
          "name": "stdout",
          "text": [
            "=== Классификация: Бейзлайн ===\n",
            "Accuracy: 0.8058856819468024\n",
            "                                        precision    recall  f1-score   support\n",
            "\n",
            "                            Accounting       0.40      0.22      0.29         9\n",
            "       Administration & Office Support       0.81      0.85      0.83       436\n",
            "             Advertising, Arts & Media       0.00      0.00      0.00        12\n",
            "          Banking & Financial Services       0.69      0.76      0.72       208\n",
            "              CEO & General Management       0.67      0.60      0.63        10\n",
            "        Call Centre & Customer Service       0.55      0.51      0.53        35\n",
            "                          Construction       0.76      0.76      0.76        85\n",
            "                 Consulting & Strategy       0.35      0.25      0.29        24\n",
            "                 Design & Architecture       0.80      0.47      0.59        17\n",
            "                           Engineering       0.50      0.33      0.40         3\n",
            "                  Healthcare & Medical       0.00      0.00      0.00         3\n",
            "         Human Resources & Recruitment       0.93      0.92      0.92       366\n",
            "Information & Communication Technology       0.89      0.96      0.92       149\n",
            "            Insurance & Superannuation       0.00      0.00      0.00         1\n",
            "                                 Legal       0.76      0.76      0.76        25\n",
            "  Manufacturing, Transport & Logistics       0.88      0.92      0.90       165\n",
            "            Marketing & Communications       0.72      0.72      0.72        81\n",
            "                Real Estate & Property       0.00      0.00      0.00         2\n",
            "            Retail & Consumer Products       0.83      0.36      0.50        14\n",
            "                                 Sales       0.69      0.66      0.67       116\n",
            "                  Science & Technology       1.00      0.20      0.33         5\n",
            "                     Trades & Services       0.00      0.00      0.00         1\n",
            "\n",
            "                              accuracy                           0.81      1767\n",
            "                             macro avg       0.56      0.47      0.49      1767\n",
            "                          weighted avg       0.79      0.81      0.80      1767\n",
            "\n"
          ]
        },
        {
          "output_type": "stream",
          "name": "stderr",
          "text": [
            "/usr/local/lib/python3.10/dist-packages/sklearn/metrics/_classification.py:1531: UndefinedMetricWarning: Precision is ill-defined and being set to 0.0 in labels with no predicted samples. Use `zero_division` parameter to control this behavior.\n",
            "  _warn_prf(average, modifier, f\"{metric.capitalize()} is\", len(result))\n",
            "/usr/local/lib/python3.10/dist-packages/sklearn/metrics/_classification.py:1531: UndefinedMetricWarning: Precision is ill-defined and being set to 0.0 in labels with no predicted samples. Use `zero_division` parameter to control this behavior.\n",
            "  _warn_prf(average, modifier, f\"{metric.capitalize()} is\", len(result))\n",
            "/usr/local/lib/python3.10/dist-packages/sklearn/metrics/_classification.py:1531: UndefinedMetricWarning: Precision is ill-defined and being set to 0.0 in labels with no predicted samples. Use `zero_division` parameter to control this behavior.\n",
            "  _warn_prf(average, modifier, f\"{metric.capitalize()} is\", len(result))\n"
          ]
        }
      ]
    },
    {
      "cell_type": "code",
      "source": [
        "# Модель случайного леса для регрессии\n",
        "reg = RandomForestRegressor(random_state=42)\n",
        "reg.fit(X_train_reg, y_train_reg)\n",
        "y_pred_reg = reg.predict(X_test_reg)\n",
        "\n",
        "print(\"\\n=== Регрессия: Бейзлайн ===\")\n",
        "print(\"MSE:\", mean_squared_error(y_test_reg, y_pred_reg))\n",
        "print(\"R2 Score:\", r2_score(y_test_reg, y_pred_reg))"
      ],
      "metadata": {
        "colab": {
          "base_uri": "https://localhost:8080/"
        },
        "id": "CW8JgtvU-4SF",
        "outputId": "3834b8d3-d808-43d5-f45a-906ea7ec8e2d"
      },
      "execution_count": null,
      "outputs": [
        {
          "output_type": "stream",
          "name": "stdout",
          "text": [
            "\n",
            "=== Регрессия: Бейзлайн ===\n",
            "MSE: 408716011860.4651\n",
            "R2 Score: 0.993105759643903\n"
          ]
        }
      ]
    },
    {
      "cell_type": "code",
      "source": [
        "# === 2. Улучшение бейзлайна ===\n",
        "# Гипотезы: подбор гиперпараметров\n",
        "param_grid_clf = {\n",
        "    'n_estimators': [50, 100, 150],\n",
        "    'max_depth': [10, 20, None],\n",
        "    'min_samples_split': [2, 5, 10]\n",
        "}\n",
        "\n",
        "param_grid_reg = {\n",
        "    'n_estimators': [50, 100, 150],\n",
        "    'max_depth': [10, 20, None],\n",
        "    'min_samples_split': [2, 5, 10]\n",
        "}"
      ],
      "metadata": {
        "id": "I6Gt4Al-_NQp"
      },
      "execution_count": null,
      "outputs": []
    },
    {
      "cell_type": "code",
      "source": [
        "# Классификация\n",
        "grid_clf = GridSearchCV(RandomForestClassifier(random_state=42), param_grid_clf, cv=3, scoring='accuracy')\n",
        "grid_clf.fit(X_train_class, y_train_class)\n",
        "\n",
        "best_clf = grid_clf.best_estimator_\n",
        "y_pred_class_tuned = best_clf.predict(X_test_class)\n",
        "\n",
        "print(\"\\n=== Классификация: Улучшенный бейзлайн ===\")\n",
        "print(\"Лучшие параметры:\", grid_clf.best_params_)\n",
        "print(\"Accuracy:\", accuracy_score(y_test_class, y_pred_class_tuned))\n",
        "print(classification_report(y_test_class, y_pred_class_tuned))\n"
      ],
      "metadata": {
        "colab": {
          "base_uri": "https://localhost:8080/"
        },
        "id": "haGCw52M_PmX",
        "outputId": "74b13906-74ea-4d3e-dce1-b69c2df73ab2"
      },
      "execution_count": null,
      "outputs": [
        {
          "output_type": "stream",
          "name": "stderr",
          "text": [
            "/usr/local/lib/python3.10/dist-packages/sklearn/model_selection/_split.py:776: UserWarning: The least populated class in y has only 1 members, which is less than n_splits=3.\n",
            "  warnings.warn(\n"
          ]
        },
        {
          "output_type": "stream",
          "name": "stdout",
          "text": [
            "\n",
            "=== Классификация: Улучшенный бейзлайн ===\n",
            "Лучшие параметры: {'max_depth': None, 'min_samples_split': 10, 'n_estimators': 150}\n",
            "Accuracy: 0.8126768534238823\n",
            "                                        precision    recall  f1-score   support\n",
            "\n",
            "                            Accounting       0.67      0.22      0.33         9\n",
            "       Administration & Office Support       0.80      0.87      0.83       436\n",
            "             Advertising, Arts & Media       0.00      0.00      0.00        12\n",
            "          Banking & Financial Services       0.71      0.77      0.74       208\n",
            "              CEO & General Management       0.56      0.50      0.53        10\n",
            "        Call Centre & Customer Service       0.54      0.57      0.56        35\n",
            "                          Construction       0.78      0.78      0.78        85\n",
            "                 Consulting & Strategy       0.29      0.17      0.21        24\n",
            "                 Design & Architecture       0.83      0.59      0.69        17\n",
            "                           Engineering       0.50      0.33      0.40         3\n",
            "                  Healthcare & Medical       0.00      0.00      0.00         3\n",
            "         Human Resources & Recruitment       0.93      0.93      0.93       366\n",
            "Information & Communication Technology       0.87      0.97      0.92       149\n",
            "            Insurance & Superannuation       0.00      0.00      0.00         1\n",
            "                                 Legal       0.78      0.72      0.75        25\n",
            "  Manufacturing, Transport & Logistics       0.88      0.90      0.89       165\n",
            "            Marketing & Communications       0.81      0.68      0.74        81\n",
            "                Real Estate & Property       0.00      0.00      0.00         2\n",
            "            Retail & Consumer Products       0.83      0.36      0.50        14\n",
            "                                 Sales       0.75      0.64      0.69       116\n",
            "                  Science & Technology       1.00      0.20      0.33         5\n",
            "                     Trades & Services       0.00      0.00      0.00         1\n",
            "\n",
            "                              accuracy                           0.81      1767\n",
            "                             macro avg       0.57      0.46      0.49      1767\n",
            "                          weighted avg       0.80      0.81      0.80      1767\n",
            "\n"
          ]
        },
        {
          "output_type": "stream",
          "name": "stderr",
          "text": [
            "/usr/local/lib/python3.10/dist-packages/sklearn/metrics/_classification.py:1531: UndefinedMetricWarning: Precision is ill-defined and being set to 0.0 in labels with no predicted samples. Use `zero_division` parameter to control this behavior.\n",
            "  _warn_prf(average, modifier, f\"{metric.capitalize()} is\", len(result))\n",
            "/usr/local/lib/python3.10/dist-packages/sklearn/metrics/_classification.py:1531: UndefinedMetricWarning: Precision is ill-defined and being set to 0.0 in labels with no predicted samples. Use `zero_division` parameter to control this behavior.\n",
            "  _warn_prf(average, modifier, f\"{metric.capitalize()} is\", len(result))\n",
            "/usr/local/lib/python3.10/dist-packages/sklearn/metrics/_classification.py:1531: UndefinedMetricWarning: Precision is ill-defined and being set to 0.0 in labels with no predicted samples. Use `zero_division` parameter to control this behavior.\n",
            "  _warn_prf(average, modifier, f\"{metric.capitalize()} is\", len(result))\n"
          ]
        }
      ]
    },
    {
      "cell_type": "code",
      "source": [
        "from sklearn.model_selection import GridSearchCV, RandomizedSearchCV\n",
        "random_reg = RandomizedSearchCV(\n",
        "    RandomForestRegressor(random_state=42),\n",
        "    param_distributions=param_grid_reg,\n",
        "    n_iter=5,  # Уменьшает число комбинаций\n",
        "    cv=3,\n",
        "    scoring='r2',\n",
        "    n_jobs=-1,\n",
        "    random_state=42\n",
        ")\n",
        "random_reg.fit(X_train_reg, y_train_reg)\n",
        "\n",
        "best_reg = random_reg.best_estimator_\n",
        "y_pred_reg_tuned = best_reg.predict(X_test_reg)\n",
        "\n",
        "print(\"\\n=== Регрессия: Улучшенный бейзлайн ===\")\n",
        "print(\"Лучшие параметры:\", random_reg.best_params_)\n",
        "print(\"MSE:\", mean_squared_error(y_test_reg, y_pred_reg_tuned))\n",
        "print(\"R2 Score:\", r2_score(y_test_reg, y_pred_reg_tuned))\n"
      ],
      "metadata": {
        "colab": {
          "base_uri": "https://localhost:8080/"
        },
        "id": "Bvz0z0FoADKF",
        "outputId": "92bb99da-1c06-4d24-dbf4-29a02431044b"
      },
      "execution_count": null,
      "outputs": [
        {
          "output_type": "stream",
          "name": "stdout",
          "text": [
            "\n",
            "=== Регрессия: Улучшенный бейзлайн с RandomizedSearch ===\n",
            "Лучшие параметры: {'n_estimators': 100, 'min_samples_split': 5, 'max_depth': 20}\n",
            "MSE: 497947779992.0194\n",
            "R2 Score: 0.9916005941034142\n"
          ]
        }
      ]
    },
    {
      "cell_type": "code",
      "source": [
        "def manual_random_forest(X, y, n_estimators=10, max_depth=None):\n",
        "    from sklearn.tree import DecisionTreeClassifier, DecisionTreeRegressor\n",
        "\n",
        "    trees = []\n",
        "    for _ in range(n_estimators):\n",
        "        bootstrap_indices = np.random.choice(range(len(y)), size=len(y), replace=True)\n",
        "        X_bootstrap = X[bootstrap_indices]\n",
        "        y_bootstrap = y[bootstrap_indices]\n",
        "\n",
        "        tree = DecisionTreeClassifier(max_depth=max_depth) if isinstance(y[0], str) else DecisionTreeRegressor(max_depth=max_depth)\n",
        "        tree.fit(X_bootstrap, y_bootstrap)\n",
        "        trees.append(tree)\n",
        "\n",
        "    return trees"
      ],
      "metadata": {
        "id": "DsIdXmQOCth1"
      },
      "execution_count": null,
      "outputs": []
    },
    {
      "cell_type": "markdown",
      "source": [
        "Применение самописного случайного леса для классификации"
      ],
      "metadata": {
        "id": "I1y04jP1HEoU"
      }
    },
    {
      "cell_type": "code",
      "source": [
        "class_mapping = {label: idx for idx, label in enumerate(np.unique(y_train_class))}\n",
        "inv_class_mapping = {idx: label for label, idx in class_mapping.items()}\n",
        "y_train_class_num = np.array([class_mapping[label] for label in y_train_class])\n",
        "\n",
        "manual_forest_class = manual_random_forest(X_train_class.toarray(), y_train_class_num, n_estimators=10, max_depth=10)\n",
        "\n",
        "# Прогноз на тестовых данных\n",
        "manual_preds_class = np.mean([tree.predict(X_test_class.toarray()) for tree in manual_forest_class], axis=0)\n",
        "man_pred_class_labels = [inv_class_mapping[int(round(pred))] for pred in manual_preds_class]\n",
        "\n",
        "print(\"\\n=== Классификация: Самописный случайный лес ===\")\n",
        "print(\"Accuracy:\", accuracy_score(y_test_class, man_pred_class_labels))"
      ],
      "metadata": {
        "colab": {
          "base_uri": "https://localhost:8080/"
        },
        "id": "NlpHE4nSGl13",
        "outputId": "1f857ed4-4be3-4b40-a772-b38ae876dce1"
      },
      "execution_count": null,
      "outputs": [
        {
          "output_type": "stream",
          "name": "stdout",
          "text": [
            "\n",
            "=== Классификация: Самописный случайный лес ===\n",
            "Accuracy: 0.3503112620260328\n"
          ]
        }
      ]
    },
    {
      "cell_type": "markdown",
      "source": [
        "Применение самописного случайного леса для регрессии"
      ],
      "metadata": {
        "id": "WEvFgsmnHN4w"
      }
    },
    {
      "cell_type": "code",
      "source": [
        "manual_forest_reg = manual_random_forest(X_train_reg.to_numpy(), y_train_reg.to_numpy(), n_estimators=10, max_depth=10)\n",
        "\n",
        "# Прогноз на тестовых данных\n",
        "manual_preds_reg = np.mean([tree.predict(X_test_reg.to_numpy()) for tree in manual_forest_reg], axis=0)\n",
        "\n",
        "print(\"\\n=== Регрессия: Самописный случайный лес ===\")\n",
        "print(\"MSE:\", mean_squared_error(y_test_reg, manual_preds_reg))\n",
        "print(\"R2 Score:\", r2_score(y_test_reg, manual_preds_reg))\n"
      ],
      "metadata": {
        "colab": {
          "base_uri": "https://localhost:8080/"
        },
        "id": "x8kB02rDHNZg",
        "outputId": "76197c9d-652e-4bb2-c4f7-b16ca1760c04"
      },
      "execution_count": null,
      "outputs": [
        {
          "output_type": "stream",
          "name": "stdout",
          "text": [
            "\n",
            "=== Регрессия: Самописный случайный лес ===\n",
            "MSE: 494091588682.0969\n",
            "R2 Score: 0.9916656405145607\n"
          ]
        }
      ]
    }
  ]
}