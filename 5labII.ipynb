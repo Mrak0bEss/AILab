{
  "nbformat": 4,
  "nbformat_minor": 0,
  "metadata": {
    "colab": {
      "provenance": []
    },
    "kernelspec": {
      "name": "python3",
      "display_name": "Python 3"
    },
    "language_info": {
      "name": "python"
    }
  },
  "cells": [
    {
      "cell_type": "code",
      "execution_count": null,
      "metadata": {
        "id": "IxudvVDdasx1"
      },
      "outputs": [],
      "source": [
        "# 1. Baseline Implementation\n",
        "from sklearn.ensemble import GradientBoostingClassifier, GradientBoostingRegressor\n",
        "from sklearn.metrics import accuracy_score, classification_report, mean_squared_error, mean_absolute_error, r2_score\n",
        "from sklearn.model_selection import train_test_split\n",
        "from sklearn.feature_extraction.text import CountVectorizer\n",
        "from sklearn.impute import SimpleImputer\n",
        "import pandas as pd\n",
        "# Load and preprocess classification data\n",
        "classification_data = pd.read_csv(\"/content/drive/MyDrive/Colab Notebooks/AiDatasets/jobDs.csv\")\n",
        "classification_data = classification_data.dropna()\n",
        "X_text = classification_data['job_title']\n",
        "y_class = classification_data['category']\n",
        "\n",
        "# Transform text data to numeric (Bag of Words)\n",
        "vectorizer = CountVectorizer()\n",
        "X_class = vectorizer.fit_transform(X_text)\n",
        "\n",
        "# Split data\n",
        "X_train_class, X_test_class, y_train_class, y_test_class = train_test_split(X_class, y_class, test_size=0.2, random_state=42)"
      ]
    },
    {
      "cell_type": "code",
      "source": [
        "# Load and preprocess regression data\n",
        "regression_data = pd.read_csv(\"/content/drive/MyDrive/Colab Notebooks/AiDatasets/Delhi_v2.csv\")\n",
        "X_reg = regression_data.drop(columns=[\"price\", \"Address\", \"desc\"])\n",
        "y_reg = regression_data[\"price\"]\n",
        "\n",
        "# Handle missing values only for numeric columns\n",
        "numeric_columns = X_reg.select_dtypes(include=['float64', 'int64']).columns\n",
        "X_reg[numeric_columns] = SimpleImputer(strategy='mean').fit_transform(X_reg[numeric_columns])\n",
        "\n",
        "# One-hot encode categorical data (for non-numeric columns)\n",
        "X_reg = pd.get_dummies(X_reg, drop_first=True)\n",
        "\n",
        "# Now, continue with train-test split\n",
        "X_train_reg, X_test_reg, y_train_reg, y_test_reg = train_test_split(X_reg, y_reg, test_size=0.2, random_state=42)\n"
      ],
      "metadata": {
        "id": "2LEkP--Bcasj"
      },
      "execution_count": null,
      "outputs": []
    },
    {
      "cell_type": "code",
      "source": [
        "# Classification Baseline\n",
        "clf = GradientBoostingClassifier(random_state=42)\n",
        "clf.fit(X_train_class, y_train_class)\n",
        "y_pred_class = clf.predict(X_test_class)\n",
        "\n",
        "print(\"Classification Baseline:\")\n",
        "print(\"Accuracy:\", accuracy_score(y_test_class, y_pred_class))\n",
        "print(classification_report(y_test_class, y_pred_class))"
      ],
      "metadata": {
        "colab": {
          "base_uri": "https://localhost:8080/"
        },
        "id": "8FsWcj7Dce5J",
        "outputId": "918f0bcb-5a86-4bae-f449-c389889734d6"
      },
      "execution_count": null,
      "outputs": [
        {
          "output_type": "stream",
          "name": "stdout",
          "text": [
            "Classification Baseline:\n",
            "Accuracy: 0.8132427843803056\n",
            "                                        precision    recall  f1-score   support\n",
            "\n",
            "                            Accounting       0.50      0.22      0.31         9\n",
            "       Administration & Office Support       0.79      0.89      0.84       436\n",
            "             Advertising, Arts & Media       0.33      0.08      0.13        12\n",
            "          Banking & Financial Services       0.68      0.75      0.71       208\n",
            "              CEO & General Management       0.70      0.70      0.70        10\n",
            "        Call Centre & Customer Service       0.62      0.37      0.46        35\n",
            "                          Construction       0.85      0.78      0.81        85\n",
            "                 Consulting & Strategy       0.56      0.42      0.48        24\n",
            "                 Design & Architecture       0.76      0.76      0.76        17\n",
            "                           Engineering       0.25      0.33      0.29         3\n",
            "                  Healthcare & Medical       0.00      0.00      0.00         3\n",
            "         Human Resources & Recruitment       0.94      0.91      0.93       366\n",
            "Information & Communication Technology       0.87      0.97      0.92       149\n",
            "            Insurance & Superannuation       0.00      0.00      0.00         1\n",
            "                                 Legal       0.71      0.80      0.75        25\n",
            "  Manufacturing, Transport & Logistics       0.85      0.93      0.89       165\n",
            "            Marketing & Communications       0.82      0.73      0.77        81\n",
            "                Real Estate & Property       0.00      0.00      0.00         2\n",
            "            Retail & Consumer Products       0.55      0.43      0.48        14\n",
            "                                 Sales       0.82      0.55      0.66       116\n",
            "                  Science & Technology       0.33      0.20      0.25         5\n",
            "                     Trades & Services       0.00      0.00      0.00         1\n",
            "\n",
            "                              accuracy                           0.81      1767\n",
            "                             macro avg       0.54      0.49      0.51      1767\n",
            "                          weighted avg       0.81      0.81      0.81      1767\n",
            "\n"
          ]
        },
        {
          "output_type": "stream",
          "name": "stderr",
          "text": [
            "/usr/local/lib/python3.10/dist-packages/sklearn/metrics/_classification.py:1531: UndefinedMetricWarning: Precision is ill-defined and being set to 0.0 in labels with no predicted samples. Use `zero_division` parameter to control this behavior.\n",
            "  _warn_prf(average, modifier, f\"{metric.capitalize()} is\", len(result))\n",
            "/usr/local/lib/python3.10/dist-packages/sklearn/metrics/_classification.py:1531: UndefinedMetricWarning: Precision is ill-defined and being set to 0.0 in labels with no predicted samples. Use `zero_division` parameter to control this behavior.\n",
            "  _warn_prf(average, modifier, f\"{metric.capitalize()} is\", len(result))\n",
            "/usr/local/lib/python3.10/dist-packages/sklearn/metrics/_classification.py:1531: UndefinedMetricWarning: Precision is ill-defined and being set to 0.0 in labels with no predicted samples. Use `zero_division` parameter to control this behavior.\n",
            "  _warn_prf(average, modifier, f\"{metric.capitalize()} is\", len(result))\n"
          ]
        }
      ]
    },
    {
      "cell_type": "markdown",
      "source": [
        "Регресс"
      ],
      "metadata": {
        "id": "_cEoILedd3Hs"
      }
    },
    {
      "cell_type": "code",
      "source": [
        "# Regression Baseline\n",
        "reg = GradientBoostingRegressor(random_state=42)\n",
        "reg.fit(X_train_reg, y_train_reg)\n",
        "y_pred_reg = reg.predict(X_test_reg)\n",
        "\n",
        "print(\"Regression Baseline:\")\n",
        "print(\"Mean Squared Error:\", mean_squared_error(y_test_reg, y_pred_reg))\n",
        "print(\"Mean Absolute Error:\", mean_absolute_error(y_test_reg, y_pred_reg))\n",
        "print(\"R2 Score:\", r2_score(y_test_reg, y_pred_reg))"
      ],
      "metadata": {
        "colab": {
          "base_uri": "https://localhost:8080/"
        },
        "id": "4MMco4YIdz4j",
        "outputId": "c068049a-63d5-4492-c9a3-89b88de7eae4"
      },
      "execution_count": null,
      "outputs": [
        {
          "output_type": "stream",
          "name": "stdout",
          "text": [
            "Regression Baseline:\n",
            "Mean Squared Error: 402883666920.3741\n",
            "Mean Absolute Error: 270645.76738881896\n",
            "R2 Score: 0.9932041399047439\n"
          ]
        }
      ]
    },
    {
      "cell_type": "markdown",
      "source": [
        "Улучшение классификатора"
      ],
      "metadata": {
        "id": "TZUJXvMZggGK"
      }
    },
    {
      "cell_type": "code",
      "source": [
        "from sklearn.feature_extraction.text import TfidfVectorizer\n",
        "from sklearn.model_selection import RandomizedSearchCV\n",
        "from sklearn.ensemble import HistGradientBoostingClassifier\n",
        "from sklearn.metrics import accuracy_score, classification_report\n",
        "from sklearn.model_selection import train_test_split\n",
        "\n",
        "# Использование TfidfVectorizer для ускорения работы и повышения точности\n",
        "print(\"\\nImproving Classification Baseline:\")\n",
        "tfidf_vectorizer = TfidfVectorizer(max_features=1000)  # Ограничиваем количество признаков\n",
        "X_class_tfidf = tfidf_vectorizer.fit_transform(X_text)\n",
        "\n",
        "X_class_tfidf_dense = X_class_tfidf.toarray()\n",
        "\n",
        "X_train_class, X_test_class, y_train_class, y_test_class = train_test_split(\n",
        "    X_class_tfidf_dense, y_class, test_size=0.2, random_state=42\n",
        ")\n",
        "\n",
        "param_dist_class = {\n",
        "    'max_iter': [100, 200],\n",
        "    'learning_rate': [0.05, 0.1, 0.2],\n",
        "    'max_depth': [3, 5]\n",
        "}\n",
        "\n",
        "clf_rs = RandomizedSearchCV(HistGradientBoostingClassifier(random_state=42),\n",
        "                            param_distributions=param_dist_class, n_iter=5, cv=2, random_state=42, n_jobs=-1)\n",
        "clf_rs.fit(X_train_class, y_train_class)\n",
        "\n",
        "print(\"Best Parameters for Classification:\", clf_rs.best_params_)\n",
        "y_pred_class = clf_rs.predict(X_test_class)\n",
        "print(\"Accuracy:\", accuracy_score(y_test_class, y_pred_class))\n",
        "print(classification_report(y_test_class, y_pred_class))\n"
      ],
      "metadata": {
        "colab": {
          "base_uri": "https://localhost:8080/"
        },
        "id": "2Wqx7YvQgW2A",
        "outputId": "71d0bc86-6a7f-490a-de34-40aa6f5f7cb7"
      },
      "execution_count": null,
      "outputs": [
        {
          "output_type": "stream",
          "name": "stdout",
          "text": [
            "\n",
            "Improving Classification Baseline:\n"
          ]
        },
        {
          "output_type": "stream",
          "name": "stderr",
          "text": [
            "/usr/local/lib/python3.10/dist-packages/sklearn/model_selection/_split.py:776: UserWarning: The least populated class in y has only 1 members, which is less than n_splits=2.\n",
            "  warnings.warn(\n"
          ]
        },
        {
          "output_type": "stream",
          "name": "stdout",
          "text": [
            "Best Parameters for Classification: {'max_iter': 100, 'max_depth': 3, 'learning_rate': 0.05}\n",
            "Accuracy: 0.7775891341256367\n",
            "                                        precision    recall  f1-score   support\n",
            "\n",
            "                            Accounting       0.33      0.11      0.17         9\n",
            "       Administration & Office Support       0.74      0.88      0.81       436\n",
            "             Advertising, Arts & Media       0.00      0.00      0.00        12\n",
            "          Banking & Financial Services       0.60      0.75      0.67       208\n",
            "              CEO & General Management       0.67      0.60      0.63        10\n",
            "        Call Centre & Customer Service       0.53      0.51      0.52        35\n",
            "                          Construction       0.87      0.69      0.77        85\n",
            "                 Consulting & Strategy       0.67      0.17      0.27        24\n",
            "                 Design & Architecture       0.38      0.18      0.24        17\n",
            "                           Engineering       0.50      0.33      0.40         3\n",
            "                  Healthcare & Medical       0.00      0.00      0.00         3\n",
            "         Human Resources & Recruitment       0.95      0.89      0.92       366\n",
            "Information & Communication Technology       0.84      0.97      0.90       149\n",
            "            Insurance & Superannuation       0.00      0.00      0.00         1\n",
            "                                 Legal       0.83      0.76      0.79        25\n",
            "  Manufacturing, Transport & Logistics       0.86      0.91      0.88       165\n",
            "            Marketing & Communications       0.77      0.58      0.66        81\n",
            "                Real Estate & Property       0.00      0.00      0.00         2\n",
            "            Retail & Consumer Products       0.57      0.29      0.38        14\n",
            "                                 Sales       0.68      0.45      0.54       116\n",
            "                  Science & Technology       1.00      0.20      0.33         5\n",
            "                    Sport & Recreation       0.00      0.00      0.00         0\n",
            "                     Trades & Services       0.00      0.00      0.00         1\n",
            "\n",
            "                              accuracy                           0.78      1767\n",
            "                             macro avg       0.51      0.40      0.43      1767\n",
            "                          weighted avg       0.77      0.78      0.77      1767\n",
            "\n"
          ]
        },
        {
          "output_type": "stream",
          "name": "stderr",
          "text": [
            "/usr/local/lib/python3.10/dist-packages/sklearn/metrics/_classification.py:1531: UndefinedMetricWarning: Precision is ill-defined and being set to 0.0 in labels with no predicted samples. Use `zero_division` parameter to control this behavior.\n",
            "  _warn_prf(average, modifier, f\"{metric.capitalize()} is\", len(result))\n",
            "/usr/local/lib/python3.10/dist-packages/sklearn/metrics/_classification.py:1531: UndefinedMetricWarning: Recall is ill-defined and being set to 0.0 in labels with no true samples. Use `zero_division` parameter to control this behavior.\n",
            "  _warn_prf(average, modifier, f\"{metric.capitalize()} is\", len(result))\n",
            "/usr/local/lib/python3.10/dist-packages/sklearn/metrics/_classification.py:1531: UndefinedMetricWarning: Precision is ill-defined and being set to 0.0 in labels with no predicted samples. Use `zero_division` parameter to control this behavior.\n",
            "  _warn_prf(average, modifier, f\"{metric.capitalize()} is\", len(result))\n",
            "/usr/local/lib/python3.10/dist-packages/sklearn/metrics/_classification.py:1531: UndefinedMetricWarning: Recall is ill-defined and being set to 0.0 in labels with no true samples. Use `zero_division` parameter to control this behavior.\n",
            "  _warn_prf(average, modifier, f\"{metric.capitalize()} is\", len(result))\n",
            "/usr/local/lib/python3.10/dist-packages/sklearn/metrics/_classification.py:1531: UndefinedMetricWarning: Precision is ill-defined and being set to 0.0 in labels with no predicted samples. Use `zero_division` parameter to control this behavior.\n",
            "  _warn_prf(average, modifier, f\"{metric.capitalize()} is\", len(result))\n",
            "/usr/local/lib/python3.10/dist-packages/sklearn/metrics/_classification.py:1531: UndefinedMetricWarning: Recall is ill-defined and being set to 0.0 in labels with no true samples. Use `zero_division` parameter to control this behavior.\n",
            "  _warn_prf(average, modifier, f\"{metric.capitalize()} is\", len(result))\n"
          ]
        }
      ]
    },
    {
      "cell_type": "markdown",
      "source": [
        "Улучшение реггрессора"
      ],
      "metadata": {
        "id": "k0TQbe4P2BiU"
      }
    },
    {
      "cell_type": "code",
      "source": [
        "from sklearn.ensemble import GradientBoostingRegressor\n",
        "from sklearn.model_selection import RandomizedSearchCV\n",
        "from sklearn.metrics import mean_squared_error, r2_score\n",
        "from sklearn.preprocessing import StandardScaler\n",
        "import numpy as np\n",
        "\n",
        "print(\"\\nImproving Regression Baseline:\")\n",
        "\n",
        "# Масштабирование данных\n",
        "scaler = StandardScaler()\n",
        "X_train_reg_scaled = scaler.fit_transform(X_train_reg)\n",
        "X_test_reg_scaled = scaler.transform(X_test_reg)\n",
        "\n",
        "# Сокращаем параметры для RandomizedSearchCV\n",
        "param_dist_reg = {\n",
        "    'n_estimators': [50, 100],  # Меньше количество деревьев\n",
        "    'learning_rate': [0.05, 0.1],  # Меньше вариантов для learning_rate\n",
        "    'max_depth': [3, 5]  # Меньше вариантов для max_depth\n",
        "}\n",
        "\n",
        "# Используем RandomizedSearchCV для ускорения поиска\n",
        "reg_rs = RandomizedSearchCV(GradientBoostingRegressor(random_state=42),\n",
        "                             param_distributions=param_dist_reg, n_iter=5, cv=2, random_state=42, n_jobs=-1)\n",
        "reg_rs.fit(X_train_reg_scaled, y_train_reg)\n",
        "\n",
        "print(\"Best Parameters for Regression:\", reg_rs.best_params_)\n",
        "y_pred_reg = reg_rs.predict(X_test_reg_scaled)\n",
        "\n",
        "print(\"Mean Squared Error:\", mean_squared_error(y_test_reg, y_pred_reg))\n",
        "print(\"R2 Score:\", r2_score(y_test_reg, y_pred_reg))\n"
      ],
      "metadata": {
        "colab": {
          "base_uri": "https://localhost:8080/"
        },
        "id": "n5U9YUnL1_wO",
        "outputId": "d0e9e059-24ff-425a-8f3e-a55e860f2cc2"
      },
      "execution_count": null,
      "outputs": [
        {
          "output_type": "stream",
          "name": "stdout",
          "text": [
            "\n",
            "Improving Regression Baseline:\n"
          ]
        },
        {
          "output_type": "stream",
          "name": "stderr",
          "text": [
            "/usr/local/lib/python3.10/dist-packages/numpy/ma/core.py:2820: RuntimeWarning: invalid value encountered in cast\n",
            "  _data = np.array(data, dtype=dtype, copy=copy,\n"
          ]
        },
        {
          "output_type": "stream",
          "name": "stdout",
          "text": [
            "Best Parameters for Regression: {'n_estimators': 100, 'max_depth': 3, 'learning_rate': 0.1}\n",
            "Mean Squared Error: 407908432921.0759\n",
            "R2 Score: 0.9931193819223387\n"
          ]
        }
      ]
    },
    {
      "cell_type": "code",
      "source": [
        "class CustomGradientBoosting:\n",
        "    def __init__(self, n_estimators=100, learning_rate=0.1, max_depth=3):\n",
        "        self.n_estimators = n_estimators\n",
        "        self.learning_rate = learning_rate\n",
        "        self.max_depth = max_depth\n",
        "        self.models = []\n",
        "        self.init_prediction = None\n",
        "\n",
        "    def fit(self, X, y):\n",
        "        self.init_prediction = np.mean(y)\n",
        "        residuals = y - self.init_prediction\n",
        "\n",
        "        for _ in range(self.n_estimators):\n",
        "            model = GradientBoostingRegressor(\n",
        "                n_estimators=1, learning_rate=self.learning_rate, max_depth=self.max_depth, random_state=42\n",
        "            )\n",
        "            model.fit(X, residuals)\n",
        "            self.models.append(model)\n",
        "            residuals -= self.learning_rate * model.predict(X)\n",
        "\n",
        "    def predict(self, X):\n",
        "        predictions = np.full(X.shape[0], self.init_prediction)\n",
        "        for model in self.models:\n",
        "            predictions += self.learning_rate * model.predict(X)\n",
        "        return predictions"
      ],
      "metadata": {
        "id": "mOdR08G1-ZmB"
      },
      "execution_count": null,
      "outputs": []
    },
    {
      "cell_type": "code",
      "source": [
        "# Train and evaluate custom gradient boosting for regression\n",
        "custom_gb = CustomGradientBoosting(n_estimators=50, learning_rate=0.1, max_depth=3)\n",
        "custom_gb.fit(X_train_reg, y_train_reg)\n",
        "y_pred_custom = custom_gb.predict(X_test_reg)\n",
        "\n",
        "print(\"Custom Gradient Boosting for Regression:\")\n",
        "print(\"Mean Squared Error:\", mean_squared_error(y_test_reg, y_pred_custom))\n",
        "print(\"Mean Absolute Error:\", mean_absolute_error(y_test_reg, y_pred_custom))\n",
        "print(\"R2 Score:\", r2_score(y_test_reg, y_pred_custom))"
      ],
      "metadata": {
        "colab": {
          "base_uri": "https://localhost:8080/"
        },
        "id": "tvhHS3eTE-au",
        "outputId": "ac9849d2-4379-4183-e91b-b805224880da"
      },
      "execution_count": null,
      "outputs": [
        {
          "output_type": "stream",
          "name": "stdout",
          "text": [
            "Custom Gradient Boosting for Regression:\n",
            "Mean Squared Error: 27474434588463.695\n",
            "Mean Absolute Error: 3039431.512257809\n",
            "R2 Score: 0.5365599824716487\n"
          ]
        }
      ]
    },
    {
      "cell_type": "code",
      "source": [
        "from sklearn.preprocessing import LabelEncoder\n",
        "\n",
        "# Обработка целевых меток для классификации\n",
        "label_encoder = LabelEncoder()\n",
        "y_class_encoded = label_encoder.fit_transform(y_class)\n",
        "\n",
        "# Разделение данных на тренировочные и тестовые\n",
        "X_train_class, X_test_class, y_train_class, y_test_class = train_test_split(\n",
        "    X_class, y_class_encoded, test_size=0.2, random_state=42\n",
        ")\n",
        "\n",
        "# Обучение и оценка пользовательской модели градиентного бустинга\n",
        "custom_gb_clf = CustomGradientBoosting(n_estimators=50, learning_rate=0.1, max_depth=3)\n",
        "custom_gb_clf.fit(X_train_class.toarray(), y_train_class.astype(float))\n",
        "y_pred_custom_class = custom_gb_clf.predict(X_test_class.toarray())\n",
        "\n",
        "# Преобразование прогнозов в метки классов\n",
        "threshold = 0.5\n",
        "custom_class_labels = np.where(y_pred_custom_class > threshold, 1, 0)\n",
        "\n",
        "print(\"Custom Gradient Boosting for Classification:\")\n",
        "print(\"Accuracy:\", accuracy_score(y_test_class, custom_class_labels))\n",
        "print(classification_report(y_test_class, custom_class_labels))\n"
      ],
      "metadata": {
        "colab": {
          "base_uri": "https://localhost:8080/"
        },
        "id": "ZZeLYoB7FBX8",
        "outputId": "342d4606-2b56-4fb4-fa45-2facabeb399d"
      },
      "execution_count": null,
      "outputs": [
        {
          "output_type": "stream",
          "name": "stdout",
          "text": [
            "Custom Gradient Boosting for Classification:\n",
            "Accuracy: 0.24674589700056593\n",
            "              precision    recall  f1-score   support\n",
            "\n",
            "           0       0.00      0.00      0.00         9\n",
            "           1       0.25      1.00      0.40       436\n",
            "           2       0.00      0.00      0.00        12\n",
            "           3       0.00      0.00      0.00       208\n",
            "           4       0.00      0.00      0.00        10\n",
            "           5       0.00      0.00      0.00        35\n",
            "           6       0.00      0.00      0.00        85\n",
            "           7       0.00      0.00      0.00        24\n",
            "           8       0.00      0.00      0.00        17\n",
            "          10       0.00      0.00      0.00         3\n",
            "          11       0.00      0.00      0.00         3\n",
            "          13       0.00      0.00      0.00       366\n",
            "          14       0.00      0.00      0.00       149\n",
            "          15       0.00      0.00      0.00         1\n",
            "          16       0.00      0.00      0.00        25\n",
            "          17       0.00      0.00      0.00       165\n",
            "          18       0.00      0.00      0.00        81\n",
            "          20       0.00      0.00      0.00         2\n",
            "          21       0.00      0.00      0.00        14\n",
            "          22       0.00      0.00      0.00       116\n",
            "          23       0.00      0.00      0.00         5\n",
            "          25       0.00      0.00      0.00         1\n",
            "\n",
            "    accuracy                           0.25      1767\n",
            "   macro avg       0.01      0.05      0.02      1767\n",
            "weighted avg       0.06      0.25      0.10      1767\n",
            "\n"
          ]
        },
        {
          "output_type": "stream",
          "name": "stderr",
          "text": [
            "/usr/local/lib/python3.10/dist-packages/sklearn/metrics/_classification.py:1531: UndefinedMetricWarning: Precision is ill-defined and being set to 0.0 in labels with no predicted samples. Use `zero_division` parameter to control this behavior.\n",
            "  _warn_prf(average, modifier, f\"{metric.capitalize()} is\", len(result))\n",
            "/usr/local/lib/python3.10/dist-packages/sklearn/metrics/_classification.py:1531: UndefinedMetricWarning: Precision is ill-defined and being set to 0.0 in labels with no predicted samples. Use `zero_division` parameter to control this behavior.\n",
            "  _warn_prf(average, modifier, f\"{metric.capitalize()} is\", len(result))\n",
            "/usr/local/lib/python3.10/dist-packages/sklearn/metrics/_classification.py:1531: UndefinedMetricWarning: Precision is ill-defined and being set to 0.0 in labels with no predicted samples. Use `zero_division` parameter to control this behavior.\n",
            "  _warn_prf(average, modifier, f\"{metric.capitalize()} is\", len(result))\n"
          ]
        }
      ]
    }
  ]
}